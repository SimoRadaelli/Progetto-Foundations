{
 "cells": [
  {
   "cell_type": "markdown",
   "id": "3d2abdd9",
   "metadata": {},
   "source": [
    "Radaelli Simone 845065\n",
    "\n",
    "You have to work on the Dogs adoptions dataset.\n",
    "\n",
    "It contains three files:\n",
    "\n",
    "- dogs.csv, shortly dogs\n",
    "- dogTravel.csv, shortly travels\n",
    "- NST-EST2021-POP.csv\n",
    "\n",
    "Notes\n",
    "\n",
    "- It is mandatory to use GitHub for developing the project.\n",
    "- The project must be a jupyter notebook.\n",
    "- There is no restriction on the libraries that can be used, nor on the Python version.\n",
    "- All questions on the project must be asked in a public channel on Zulip.\n",
    "- At most 3 students can be in each group. You must create the groups by yourself.\n",
    "- You do not have to send me the project before the discussion."
   ]
  },
  {
   "cell_type": "code",
   "execution_count": 1,
   "id": "5554cfda",
   "metadata": {},
   "outputs": [],
   "source": [
    "import pandas as pd\n",
    "import numpy as np"
   ]
  },
  {
   "cell_type": "code",
   "execution_count": 2,
   "id": "281feda4",
   "metadata": {},
   "outputs": [
    {
     "data": {
      "text/html": [
       "<div>\n",
       "<style scoped>\n",
       "    .dataframe tbody tr th:only-of-type {\n",
       "        vertical-align: middle;\n",
       "    }\n",
       "\n",
       "    .dataframe tbody tr th {\n",
       "        vertical-align: top;\n",
       "    }\n",
       "\n",
       "    .dataframe thead th {\n",
       "        text-align: right;\n",
       "    }\n",
       "</style>\n",
       "<table border=\"1\" class=\"dataframe\">\n",
       "  <thead>\n",
       "    <tr style=\"text-align: right;\">\n",
       "      <th></th>\n",
       "      <th>id</th>\n",
       "      <th>org_id</th>\n",
       "      <th>url</th>\n",
       "      <th>type.x</th>\n",
       "      <th>species</th>\n",
       "      <th>breed_primary</th>\n",
       "      <th>breed_secondary</th>\n",
       "      <th>breed_mixed</th>\n",
       "      <th>breed_unknown</th>\n",
       "      <th>color_primary</th>\n",
       "      <th>...</th>\n",
       "      <th>contact_city</th>\n",
       "      <th>contact_state</th>\n",
       "      <th>contact_zip</th>\n",
       "      <th>contact_country</th>\n",
       "      <th>stateQ</th>\n",
       "      <th>accessed</th>\n",
       "      <th>type.y</th>\n",
       "      <th>description</th>\n",
       "      <th>stay_duration</th>\n",
       "      <th>stay_cost</th>\n",
       "    </tr>\n",
       "  </thead>\n",
       "  <tbody>\n",
       "    <tr>\n",
       "      <th>0</th>\n",
       "      <td>46042150</td>\n",
       "      <td>NV163</td>\n",
       "      <td>https://www.petfinder.com/dog/harley-46042150/...</td>\n",
       "      <td>Dog</td>\n",
       "      <td>Dog</td>\n",
       "      <td>American Staffordshire Terrier</td>\n",
       "      <td>Mixed Breed</td>\n",
       "      <td>True</td>\n",
       "      <td>False</td>\n",
       "      <td>White / Cream</td>\n",
       "      <td>...</td>\n",
       "      <td>Las Vegas</td>\n",
       "      <td>NV</td>\n",
       "      <td>89147</td>\n",
       "      <td>US</td>\n",
       "      <td>89009</td>\n",
       "      <td>2019-09-20</td>\n",
       "      <td>Dog</td>\n",
       "      <td>Harley is not sure how he wound up at shelter ...</td>\n",
       "      <td>70</td>\n",
       "      <td>124.81</td>\n",
       "    </tr>\n",
       "    <tr>\n",
       "      <th>1</th>\n",
       "      <td>46042002</td>\n",
       "      <td>NV163</td>\n",
       "      <td>https://www.petfinder.com/dog/biggie-46042002/...</td>\n",
       "      <td>Dog</td>\n",
       "      <td>Dog</td>\n",
       "      <td>Pit Bull Terrier</td>\n",
       "      <td>Mixed Breed</td>\n",
       "      <td>True</td>\n",
       "      <td>False</td>\n",
       "      <td>Brown / Chocolate</td>\n",
       "      <td>...</td>\n",
       "      <td>Las Vegas</td>\n",
       "      <td>NV</td>\n",
       "      <td>89147</td>\n",
       "      <td>US</td>\n",
       "      <td>89009</td>\n",
       "      <td>2019-09-20</td>\n",
       "      <td>Dog</td>\n",
       "      <td>6 year old Biggie has lost his home and really...</td>\n",
       "      <td>49</td>\n",
       "      <td>122.07</td>\n",
       "    </tr>\n",
       "    <tr>\n",
       "      <th>2</th>\n",
       "      <td>46040898</td>\n",
       "      <td>NV99</td>\n",
       "      <td>https://www.petfinder.com/dog/ziggy-46040898/n...</td>\n",
       "      <td>Dog</td>\n",
       "      <td>Dog</td>\n",
       "      <td>Shepherd</td>\n",
       "      <td>NaN</td>\n",
       "      <td>False</td>\n",
       "      <td>False</td>\n",
       "      <td>Brindle</td>\n",
       "      <td>...</td>\n",
       "      <td>Mesquite</td>\n",
       "      <td>NV</td>\n",
       "      <td>89027</td>\n",
       "      <td>US</td>\n",
       "      <td>89009</td>\n",
       "      <td>2019-09-20</td>\n",
       "      <td>Dog</td>\n",
       "      <td>Approx 2 years old.\\n Did I catch your eye? I ...</td>\n",
       "      <td>87</td>\n",
       "      <td>281.51</td>\n",
       "    </tr>\n",
       "    <tr>\n",
       "      <th>3</th>\n",
       "      <td>46039877</td>\n",
       "      <td>NV202</td>\n",
       "      <td>https://www.petfinder.com/dog/gypsy-46039877/n...</td>\n",
       "      <td>Dog</td>\n",
       "      <td>Dog</td>\n",
       "      <td>German Shepherd Dog</td>\n",
       "      <td>NaN</td>\n",
       "      <td>False</td>\n",
       "      <td>False</td>\n",
       "      <td>NaN</td>\n",
       "      <td>...</td>\n",
       "      <td>Pahrump</td>\n",
       "      <td>NV</td>\n",
       "      <td>89048</td>\n",
       "      <td>US</td>\n",
       "      <td>89009</td>\n",
       "      <td>2019-09-20</td>\n",
       "      <td>Dog</td>\n",
       "      <td>NaN</td>\n",
       "      <td>62</td>\n",
       "      <td>145.83</td>\n",
       "    </tr>\n",
       "    <tr>\n",
       "      <th>4</th>\n",
       "      <td>46039306</td>\n",
       "      <td>NV184</td>\n",
       "      <td>https://www.petfinder.com/dog/theo-46039306/nv...</td>\n",
       "      <td>Dog</td>\n",
       "      <td>Dog</td>\n",
       "      <td>Dachshund</td>\n",
       "      <td>NaN</td>\n",
       "      <td>False</td>\n",
       "      <td>False</td>\n",
       "      <td>NaN</td>\n",
       "      <td>...</td>\n",
       "      <td>Henderson</td>\n",
       "      <td>NV</td>\n",
       "      <td>89052</td>\n",
       "      <td>US</td>\n",
       "      <td>89009</td>\n",
       "      <td>2019-09-20</td>\n",
       "      <td>Dog</td>\n",
       "      <td>Theo is a friendly dachshund mix who gets alon...</td>\n",
       "      <td>93</td>\n",
       "      <td>241.09</td>\n",
       "    </tr>\n",
       "  </tbody>\n",
       "</table>\n",
       "<p>5 rows × 37 columns</p>\n",
       "</div>"
      ],
      "text/plain": [
       "         id org_id                                                url type.x  \\\n",
       "0  46042150  NV163  https://www.petfinder.com/dog/harley-46042150/...    Dog   \n",
       "1  46042002  NV163  https://www.petfinder.com/dog/biggie-46042002/...    Dog   \n",
       "2  46040898   NV99  https://www.petfinder.com/dog/ziggy-46040898/n...    Dog   \n",
       "3  46039877  NV202  https://www.petfinder.com/dog/gypsy-46039877/n...    Dog   \n",
       "4  46039306  NV184  https://www.petfinder.com/dog/theo-46039306/nv...    Dog   \n",
       "\n",
       "  species                   breed_primary breed_secondary  breed_mixed  \\\n",
       "0     Dog  American Staffordshire Terrier     Mixed Breed         True   \n",
       "1     Dog                Pit Bull Terrier     Mixed Breed         True   \n",
       "2     Dog                        Shepherd             NaN        False   \n",
       "3     Dog             German Shepherd Dog             NaN        False   \n",
       "4     Dog                       Dachshund             NaN        False   \n",
       "\n",
       "   breed_unknown      color_primary  ... contact_city contact_state  \\\n",
       "0          False      White / Cream  ...    Las Vegas            NV   \n",
       "1          False  Brown / Chocolate  ...    Las Vegas            NV   \n",
       "2          False            Brindle  ...     Mesquite            NV   \n",
       "3          False                NaN  ...      Pahrump            NV   \n",
       "4          False                NaN  ...    Henderson            NV   \n",
       "\n",
       "  contact_zip contact_country stateQ    accessed  type.y  \\\n",
       "0       89147              US  89009  2019-09-20     Dog   \n",
       "1       89147              US  89009  2019-09-20     Dog   \n",
       "2       89027              US  89009  2019-09-20     Dog   \n",
       "3       89048              US  89009  2019-09-20     Dog   \n",
       "4       89052              US  89009  2019-09-20     Dog   \n",
       "\n",
       "                                         description  stay_duration  stay_cost  \n",
       "0  Harley is not sure how he wound up at shelter ...             70     124.81  \n",
       "1  6 year old Biggie has lost his home and really...             49     122.07  \n",
       "2  Approx 2 years old.\\n Did I catch your eye? I ...             87     281.51  \n",
       "3                                                NaN             62     145.83  \n",
       "4  Theo is a friendly dachshund mix who gets alon...             93     241.09  \n",
       "\n",
       "[5 rows x 37 columns]"
      ]
     },
     "execution_count": 2,
     "metadata": {},
     "output_type": "execute_result"
    }
   ],
   "source": [
    "#lettura e stampa dataset\n",
    "dogs = pd.read_csv(\"C:/Users/Simone/Uni/MAGISTRALE/Foundation of Computer Science/dogs.csv\", encoding = 'latin-1', sep=',', low_memory = False)\n",
    "dogs.head()"
   ]
  },
  {
   "cell_type": "code",
   "execution_count": 3,
   "id": "0d9be1ca",
   "metadata": {},
   "outputs": [
    {
     "data": {
      "text/html": [
       "<div>\n",
       "<style scoped>\n",
       "    .dataframe tbody tr th:only-of-type {\n",
       "        vertical-align: middle;\n",
       "    }\n",
       "\n",
       "    .dataframe tbody tr th {\n",
       "        vertical-align: top;\n",
       "    }\n",
       "\n",
       "    .dataframe thead th {\n",
       "        text-align: right;\n",
       "    }\n",
       "</style>\n",
       "<table border=\"1\" class=\"dataframe\">\n",
       "  <thead>\n",
       "    <tr style=\"text-align: right;\">\n",
       "      <th></th>\n",
       "      <th>index</th>\n",
       "      <th>id</th>\n",
       "      <th>contact_city</th>\n",
       "      <th>contact_state</th>\n",
       "      <th>description</th>\n",
       "      <th>found</th>\n",
       "      <th>manual</th>\n",
       "      <th>remove</th>\n",
       "      <th>still_there</th>\n",
       "    </tr>\n",
       "  </thead>\n",
       "  <tbody>\n",
       "    <tr>\n",
       "      <th>0</th>\n",
       "      <td>0</td>\n",
       "      <td>44520267</td>\n",
       "      <td>Anoka</td>\n",
       "      <td>MN</td>\n",
       "      <td>Boris is a handsome mini schnauzer who made hi...</td>\n",
       "      <td>Arkansas</td>\n",
       "      <td>NaN</td>\n",
       "      <td>NaN</td>\n",
       "      <td>NaN</td>\n",
       "    </tr>\n",
       "    <tr>\n",
       "      <th>1</th>\n",
       "      <td>1</td>\n",
       "      <td>44698509</td>\n",
       "      <td>Groveland</td>\n",
       "      <td>FL</td>\n",
       "      <td>Duke is an almost 2 year old Potcake from Abac...</td>\n",
       "      <td>Abacos</td>\n",
       "      <td>Bahamas</td>\n",
       "      <td>NaN</td>\n",
       "      <td>NaN</td>\n",
       "    </tr>\n",
       "    <tr>\n",
       "      <th>2</th>\n",
       "      <td>2</td>\n",
       "      <td>45983838</td>\n",
       "      <td>Adamstown</td>\n",
       "      <td>MD</td>\n",
       "      <td>Zac Woof-ron is a heartthrob movie star lookin...</td>\n",
       "      <td>Adam</td>\n",
       "      <td>Maryland</td>\n",
       "      <td>NaN</td>\n",
       "      <td>NaN</td>\n",
       "    </tr>\n",
       "    <tr>\n",
       "      <th>3</th>\n",
       "      <td>3</td>\n",
       "      <td>44475904</td>\n",
       "      <td>Saint Cloud</td>\n",
       "      <td>MN</td>\n",
       "      <td>~~Came in to the shelter as a transfer from an...</td>\n",
       "      <td>Adaptil</td>\n",
       "      <td>NaN</td>\n",
       "      <td>True</td>\n",
       "      <td>NaN</td>\n",
       "    </tr>\n",
       "    <tr>\n",
       "      <th>4</th>\n",
       "      <td>4</td>\n",
       "      <td>43877389</td>\n",
       "      <td>Pueblo</td>\n",
       "      <td>CO</td>\n",
       "      <td>Palang is such a sweetheart. She loves her peo...</td>\n",
       "      <td>Afghanistan</td>\n",
       "      <td>NaN</td>\n",
       "      <td>NaN</td>\n",
       "      <td>NaN</td>\n",
       "    </tr>\n",
       "  </tbody>\n",
       "</table>\n",
       "</div>"
      ],
      "text/plain": [
       "   index        id contact_city contact_state  \\\n",
       "0      0  44520267        Anoka            MN   \n",
       "1      1  44698509    Groveland            FL   \n",
       "2      2  45983838    Adamstown            MD   \n",
       "3      3  44475904  Saint Cloud            MN   \n",
       "4      4  43877389       Pueblo            CO   \n",
       "\n",
       "                                         description        found    manual  \\\n",
       "0  Boris is a handsome mini schnauzer who made hi...     Arkansas       NaN   \n",
       "1  Duke is an almost 2 year old Potcake from Abac...       Abacos   Bahamas   \n",
       "2  Zac Woof-ron is a heartthrob movie star lookin...         Adam  Maryland   \n",
       "3  ~~Came in to the shelter as a transfer from an...      Adaptil       NaN   \n",
       "4  Palang is such a sweetheart. She loves her peo...  Afghanistan       NaN   \n",
       "\n",
       "  remove still_there  \n",
       "0    NaN         NaN  \n",
       "1    NaN         NaN  \n",
       "2    NaN         NaN  \n",
       "3   True         NaN  \n",
       "4    NaN         NaN  "
      ]
     },
     "execution_count": 3,
     "metadata": {},
     "output_type": "execute_result"
    }
   ],
   "source": [
    "#lettura e stampa dataset\n",
    "travel = pd.read_csv(\"C:/Users/Simone/Uni/MAGISTRALE/Foundation of Computer Science/dogTravel.csv\", encoding = 'latin-1', sep=',', low_memory = False)\n",
    "travel.head()"
   ]
  },
  {
   "cell_type": "code",
   "execution_count": 4,
   "id": "8821aeee",
   "metadata": {},
   "outputs": [
    {
     "data": {
      "text/html": [
       "<div>\n",
       "<style scoped>\n",
       "    .dataframe tbody tr th:only-of-type {\n",
       "        vertical-align: middle;\n",
       "    }\n",
       "\n",
       "    .dataframe tbody tr th {\n",
       "        vertical-align: top;\n",
       "    }\n",
       "\n",
       "    .dataframe thead th {\n",
       "        text-align: right;\n",
       "    }\n",
       "</style>\n",
       "<table border=\"1\" class=\"dataframe\">\n",
       "  <thead>\n",
       "    <tr style=\"text-align: right;\">\n",
       "      <th></th>\n",
       "      <th>state</th>\n",
       "      <th>population</th>\n",
       "      <th>contact_state</th>\n",
       "    </tr>\n",
       "  </thead>\n",
       "  <tbody>\n",
       "    <tr>\n",
       "      <th>0</th>\n",
       "      <td>Alabama</td>\n",
       "      <td>5.024.279</td>\n",
       "      <td>AL</td>\n",
       "    </tr>\n",
       "    <tr>\n",
       "      <th>1</th>\n",
       "      <td>Alaska</td>\n",
       "      <td>733.391</td>\n",
       "      <td>AK</td>\n",
       "    </tr>\n",
       "    <tr>\n",
       "      <th>2</th>\n",
       "      <td>Arizona</td>\n",
       "      <td>7.151.502</td>\n",
       "      <td>AZ</td>\n",
       "    </tr>\n",
       "    <tr>\n",
       "      <th>3</th>\n",
       "      <td>Arkansas</td>\n",
       "      <td>3.011.524</td>\n",
       "      <td>AR</td>\n",
       "    </tr>\n",
       "    <tr>\n",
       "      <th>4</th>\n",
       "      <td>California</td>\n",
       "      <td>39.538.223</td>\n",
       "      <td>CA</td>\n",
       "    </tr>\n",
       "  </tbody>\n",
       "</table>\n",
       "</div>"
      ],
      "text/plain": [
       "        state  population contact_state\n",
       "0     Alabama   5.024.279            AL\n",
       "1      Alaska     733.391            AK\n",
       "2     Arizona   7.151.502            AZ\n",
       "3    Arkansas   3.011.524            AR\n",
       "4  California  39.538.223            CA"
      ]
     },
     "execution_count": 4,
     "metadata": {},
     "output_type": "execute_result"
    }
   ],
   "source": [
    "#lettura e stampa dataset\n",
    "state = pd.read_csv(\"C:/Users/Simone/Uni/MAGISTRALE/Foundation of Computer Science/NST-EST2021-POP.csv\", encoding = 'latin-1', sep=',', low_memory = False)\n",
    "state.head()"
   ]
  },
  {
   "cell_type": "markdown",
   "id": "40f8d0d2",
   "metadata": {},
   "source": [
    "# 1. Extract all dogs with status that is not 'adoptable'"
   ]
  },
  {
   "cell_type": "code",
   "execution_count": 5,
   "id": "79444e91",
   "metadata": {},
   "outputs": [
    {
     "data": {
      "text/html": [
       "<div>\n",
       "<style scoped>\n",
       "    .dataframe tbody tr th:only-of-type {\n",
       "        vertical-align: middle;\n",
       "    }\n",
       "\n",
       "    .dataframe tbody tr th {\n",
       "        vertical-align: top;\n",
       "    }\n",
       "\n",
       "    .dataframe thead th {\n",
       "        text-align: right;\n",
       "    }\n",
       "</style>\n",
       "<table border=\"1\" class=\"dataframe\">\n",
       "  <thead>\n",
       "    <tr style=\"text-align: right;\">\n",
       "      <th></th>\n",
       "      <th>id</th>\n",
       "      <th>org_id</th>\n",
       "      <th>url</th>\n",
       "      <th>type.x</th>\n",
       "      <th>species</th>\n",
       "      <th>breed_primary</th>\n",
       "      <th>breed_secondary</th>\n",
       "      <th>breed_mixed</th>\n",
       "      <th>breed_unknown</th>\n",
       "      <th>color_primary</th>\n",
       "      <th>...</th>\n",
       "      <th>contact_city</th>\n",
       "      <th>contact_state</th>\n",
       "      <th>contact_zip</th>\n",
       "      <th>contact_country</th>\n",
       "      <th>stateQ</th>\n",
       "      <th>accessed</th>\n",
       "      <th>type.y</th>\n",
       "      <th>description</th>\n",
       "      <th>stay_duration</th>\n",
       "      <th>stay_cost</th>\n",
       "    </tr>\n",
       "  </thead>\n",
       "  <tbody>\n",
       "    <tr>\n",
       "      <th>644</th>\n",
       "      <td>41330726</td>\n",
       "      <td>NV173</td>\n",
       "      <td>https://www.petfinder.com/dog/gunther-gunny-41...</td>\n",
       "      <td>Dog</td>\n",
       "      <td>Dog</td>\n",
       "      <td>German Shepherd Dog</td>\n",
       "      <td>NaN</td>\n",
       "      <td>False</td>\n",
       "      <td>False</td>\n",
       "      <td>NaN</td>\n",
       "      <td>...</td>\n",
       "      <td>NV</td>\n",
       "      <td>89146</td>\n",
       "      <td>US</td>\n",
       "      <td>89009</td>\n",
       "      <td>2019-09-20</td>\n",
       "      <td>NaN</td>\n",
       "      <td>Dog</td>\n",
       "      <td>Meet handsome 3 year old Gunther. Gunther came...</td>\n",
       "      <td>108</td>\n",
       "      <td>256.88</td>\n",
       "    </tr>\n",
       "    <tr>\n",
       "      <th>5549</th>\n",
       "      <td>38169117</td>\n",
       "      <td>AZ414</td>\n",
       "      <td>https://www.petfinder.com/dog/annabelle-annie-...</td>\n",
       "      <td>Dog</td>\n",
       "      <td>Dog</td>\n",
       "      <td>Boxer</td>\n",
       "      <td>Pit Bull Terrier</td>\n",
       "      <td>True</td>\n",
       "      <td>False</td>\n",
       "      <td>Black</td>\n",
       "      <td>...</td>\n",
       "      <td>AZ</td>\n",
       "      <td>85249</td>\n",
       "      <td>US</td>\n",
       "      <td>AZ</td>\n",
       "      <td>2019-09-20</td>\n",
       "      <td>NaN</td>\n",
       "      <td>Dog</td>\n",
       "      <td>You can fill out an adoption application onlin...</td>\n",
       "      <td>80</td>\n",
       "      <td>130.77</td>\n",
       "    </tr>\n",
       "    <tr>\n",
       "      <th>10888</th>\n",
       "      <td>45833989</td>\n",
       "      <td>NY98</td>\n",
       "      <td>https://www.petfinder.com/dog/pepper-courtesy-...</td>\n",
       "      <td>Dog</td>\n",
       "      <td>Dog</td>\n",
       "      <td>Beagle</td>\n",
       "      <td>NaN</td>\n",
       "      <td>False</td>\n",
       "      <td>False</td>\n",
       "      <td>NaN</td>\n",
       "      <td>...</td>\n",
       "      <td>NY</td>\n",
       "      <td>12220</td>\n",
       "      <td>US</td>\n",
       "      <td>CT</td>\n",
       "      <td>2019-09-20</td>\n",
       "      <td>NaN</td>\n",
       "      <td>Dog</td>\n",
       "      <td>This is Pepper. He is a 15 year old tri-color ...</td>\n",
       "      <td>86</td>\n",
       "      <td>180.70</td>\n",
       "    </tr>\n",
       "    <tr>\n",
       "      <th>11983</th>\n",
       "      <td>45515547</td>\n",
       "      <td>NY98</td>\n",
       "      <td>https://www.petfinder.com/dog/cooper-courtesy-...</td>\n",
       "      <td>Dog</td>\n",
       "      <td>Dog</td>\n",
       "      <td>Mixed Breed</td>\n",
       "      <td>NaN</td>\n",
       "      <td>False</td>\n",
       "      <td>False</td>\n",
       "      <td>NaN</td>\n",
       "      <td>...</td>\n",
       "      <td>NY</td>\n",
       "      <td>12220</td>\n",
       "      <td>US</td>\n",
       "      <td>CT</td>\n",
       "      <td>2019-09-20</td>\n",
       "      <td>NaN</td>\n",
       "      <td>Dog</td>\n",
       "      <td>Cooper is 13 years old, but according to a ver...</td>\n",
       "      <td>105</td>\n",
       "      <td>400.82</td>\n",
       "    </tr>\n",
       "    <tr>\n",
       "      <th>12495</th>\n",
       "      <td>45294115</td>\n",
       "      <td>NY98</td>\n",
       "      <td>https://www.petfinder.com/dog/daisy-courtesy-l...</td>\n",
       "      <td>Dog</td>\n",
       "      <td>Dog</td>\n",
       "      <td>Basset Hound</td>\n",
       "      <td>NaN</td>\n",
       "      <td>False</td>\n",
       "      <td>False</td>\n",
       "      <td>Brown / Chocolate</td>\n",
       "      <td>...</td>\n",
       "      <td>NY</td>\n",
       "      <td>12220</td>\n",
       "      <td>US</td>\n",
       "      <td>CT</td>\n",
       "      <td>2019-09-20</td>\n",
       "      <td>NaN</td>\n",
       "      <td>Dog</td>\n",
       "      <td>Ã¢ÂÂ¢Basset Hound, female, Ã¢ÂÂ¢10 years \\n\\...</td>\n",
       "      <td>57</td>\n",
       "      <td>82.61</td>\n",
       "    </tr>\n",
       "    <tr>\n",
       "      <th>12600</th>\n",
       "      <td>45229004</td>\n",
       "      <td>NY1436</td>\n",
       "      <td>https://www.petfinder.com/dog/elmo-momo-452290...</td>\n",
       "      <td>Dog</td>\n",
       "      <td>Dog</td>\n",
       "      <td>American Bulldog</td>\n",
       "      <td>NaN</td>\n",
       "      <td>True</td>\n",
       "      <td>False</td>\n",
       "      <td>NaN</td>\n",
       "      <td>...</td>\n",
       "      <td>NY</td>\n",
       "      <td>12477</td>\n",
       "      <td>US</td>\n",
       "      <td>CT</td>\n",
       "      <td>2019-09-20</td>\n",
       "      <td>NaN</td>\n",
       "      <td>Dog</td>\n",
       "      <td>Hello i'm MoMo or Elmo , 7 year old, mixed bre...</td>\n",
       "      <td>73</td>\n",
       "      <td>136.30</td>\n",
       "    </tr>\n",
       "    <tr>\n",
       "      <th>12613</th>\n",
       "      <td>45227052</td>\n",
       "      <td>NY1436</td>\n",
       "      <td>https://www.petfinder.com/dog/bianca-pinky-452...</td>\n",
       "      <td>Dog</td>\n",
       "      <td>Dog</td>\n",
       "      <td>Mixed Breed</td>\n",
       "      <td>NaN</td>\n",
       "      <td>False</td>\n",
       "      <td>False</td>\n",
       "      <td>White / Cream</td>\n",
       "      <td>...</td>\n",
       "      <td>NY</td>\n",
       "      <td>12477</td>\n",
       "      <td>US</td>\n",
       "      <td>CT</td>\n",
       "      <td>2019-09-20</td>\n",
       "      <td>NaN</td>\n",
       "      <td>Dog</td>\n",
       "      <td>Hello I'm Bianca, a female, 7 year old mixed b...</td>\n",
       "      <td>107</td>\n",
       "      <td>231.31</td>\n",
       "    </tr>\n",
       "    <tr>\n",
       "      <th>17619</th>\n",
       "      <td>45569380</td>\n",
       "      <td>CA1209</td>\n",
       "      <td>https://www.petfinder.com/dog/baby-girl-455693...</td>\n",
       "      <td>Dog</td>\n",
       "      <td>Dog</td>\n",
       "      <td>Maltese</td>\n",
       "      <td>NaN</td>\n",
       "      <td>False</td>\n",
       "      <td>False</td>\n",
       "      <td>White / Cream</td>\n",
       "      <td>...</td>\n",
       "      <td>VA</td>\n",
       "      <td>20136</td>\n",
       "      <td>US</td>\n",
       "      <td>DC</td>\n",
       "      <td>2019-09-20</td>\n",
       "      <td>NaN</td>\n",
       "      <td>Dog</td>\n",
       "      <td>This 10-year young senior is very sweet and lo...</td>\n",
       "      <td>76</td>\n",
       "      <td>263.63</td>\n",
       "    </tr>\n",
       "    <tr>\n",
       "      <th>18611</th>\n",
       "      <td>44694387</td>\n",
       "      <td>MD295</td>\n",
       "      <td>https://www.petfinder.com/dog/king-bert-bertie...</td>\n",
       "      <td>Dog</td>\n",
       "      <td>Dog</td>\n",
       "      <td>Fox Terrier</td>\n",
       "      <td>Chihuahua</td>\n",
       "      <td>True</td>\n",
       "      <td>False</td>\n",
       "      <td>Bicolor</td>\n",
       "      <td>...</td>\n",
       "      <td>MD</td>\n",
       "      <td>20905</td>\n",
       "      <td>US</td>\n",
       "      <td>DC</td>\n",
       "      <td>2019-09-20</td>\n",
       "      <td>NaN</td>\n",
       "      <td>Dog</td>\n",
       "      <td>\\\"Bertie\\\" came to us from the shelter.  He wa...</td>\n",
       "      <td>61</td>\n",
       "      <td>158.84</td>\n",
       "    </tr>\n",
       "    <tr>\n",
       "      <th>19747</th>\n",
       "      <td>36978896</td>\n",
       "      <td>VA127</td>\n",
       "      <td>https://www.petfinder.com/dog/maddie-cutie-pat...</td>\n",
       "      <td>Dog</td>\n",
       "      <td>Dog</td>\n",
       "      <td>Alaskan Malamute</td>\n",
       "      <td>NaN</td>\n",
       "      <td>False</td>\n",
       "      <td>False</td>\n",
       "      <td>Bicolor</td>\n",
       "      <td>...</td>\n",
       "      <td>PA</td>\n",
       "      <td>17325</td>\n",
       "      <td>US</td>\n",
       "      <td>DC</td>\n",
       "      <td>2019-09-20</td>\n",
       "      <td>NaN</td>\n",
       "      <td>Dog</td>\n",
       "      <td>Maddie is our little Miss Cutie Patootie! She ...</td>\n",
       "      <td>119</td>\n",
       "      <td>431.66</td>\n",
       "    </tr>\n",
       "    <tr>\n",
       "      <th>19845</th>\n",
       "      <td>33218331</td>\n",
       "      <td>VA127</td>\n",
       "      <td>https://www.petfinder.com/dog/bucky-are-u-my-h...</td>\n",
       "      <td>Dog</td>\n",
       "      <td>Dog</td>\n",
       "      <td>Alaskan Malamute</td>\n",
       "      <td>Siberian Husky</td>\n",
       "      <td>True</td>\n",
       "      <td>False</td>\n",
       "      <td>Gray / Blue / Silver</td>\n",
       "      <td>...</td>\n",
       "      <td>PA</td>\n",
       "      <td>17325</td>\n",
       "      <td>US</td>\n",
       "      <td>DC</td>\n",
       "      <td>2019-09-20</td>\n",
       "      <td>NaN</td>\n",
       "      <td>Dog</td>\n",
       "      <td>Born in August 2014, Bucky has a great sense o...</td>\n",
       "      <td>98</td>\n",
       "      <td>346.67</td>\n",
       "    </tr>\n",
       "    <tr>\n",
       "      <th>22161</th>\n",
       "      <td>42092005</td>\n",
       "      <td>PA738</td>\n",
       "      <td>https://www.petfinder.com/dog/chloe-little-ras...</td>\n",
       "      <td>Dog</td>\n",
       "      <td>Dog</td>\n",
       "      <td>Pit Bull Terrier</td>\n",
       "      <td>Pointer</td>\n",
       "      <td>True</td>\n",
       "      <td>False</td>\n",
       "      <td>Black</td>\n",
       "      <td>...</td>\n",
       "      <td>PA</td>\n",
       "      <td>19063</td>\n",
       "      <td>US</td>\n",
       "      <td>DE</td>\n",
       "      <td>2019-09-20</td>\n",
       "      <td>NaN</td>\n",
       "      <td>Dog</td>\n",
       "      <td>Meet Chloe our \\\"Little Rascal.\\</td>\n",
       "      <td>113</td>\n",
       "      <td>279.59</td>\n",
       "    </tr>\n",
       "    <tr>\n",
       "      <th>22229</th>\n",
       "      <td>39594038</td>\n",
       "      <td>PA562</td>\n",
       "      <td>https://www.petfinder.com/dog/cozi-h-wilson-lo...</td>\n",
       "      <td>Dog</td>\n",
       "      <td>Dog</td>\n",
       "      <td>Pit Bull Terrier</td>\n",
       "      <td>NaN</td>\n",
       "      <td>True</td>\n",
       "      <td>False</td>\n",
       "      <td>NaN</td>\n",
       "      <td>...</td>\n",
       "      <td>PA</td>\n",
       "      <td>19053</td>\n",
       "      <td>US</td>\n",
       "      <td>DE</td>\n",
       "      <td>2019-09-20</td>\n",
       "      <td>NaN</td>\n",
       "      <td>Dog</td>\n",
       "      <td>01.04.19\\nHi Folks! IÃ¢ÂÂm Cozi and IÃ¢ÂÂm...</td>\n",
       "      <td>88</td>\n",
       "      <td>360.84</td>\n",
       "    </tr>\n",
       "    <tr>\n",
       "      <th>29283</th>\n",
       "      <td>45895274</td>\n",
       "      <td>IL688</td>\n",
       "      <td>https://www.petfinder.com/dog/gibson-edgar-gib...</td>\n",
       "      <td>Dog</td>\n",
       "      <td>Dog</td>\n",
       "      <td>Labrador Retriever</td>\n",
       "      <td>NaN</td>\n",
       "      <td>True</td>\n",
       "      <td>False</td>\n",
       "      <td>Brown / Chocolate</td>\n",
       "      <td>...</td>\n",
       "      <td>IL</td>\n",
       "      <td>61944</td>\n",
       "      <td>US</td>\n",
       "      <td>IL</td>\n",
       "      <td>2019-09-20</td>\n",
       "      <td>NaN</td>\n",
       "      <td>Dog</td>\n",
       "      <td>Gibson Edgar is a 12 month old male Lab mix th...</td>\n",
       "      <td>74</td>\n",
       "      <td>121.56</td>\n",
       "    </tr>\n",
       "    <tr>\n",
       "      <th>30471</th>\n",
       "      <td>45964719</td>\n",
       "      <td>IN694</td>\n",
       "      <td>https://www.petfinder.com/dog/puppies-berries-...</td>\n",
       "      <td>Dog</td>\n",
       "      <td>Dog</td>\n",
       "      <td>American Staffordshire Terrier</td>\n",
       "      <td>Border Collie</td>\n",
       "      <td>True</td>\n",
       "      <td>False</td>\n",
       "      <td>Black</td>\n",
       "      <td>...</td>\n",
       "      <td>IN</td>\n",
       "      <td>46158</td>\n",
       "      <td>US</td>\n",
       "      <td>IN</td>\n",
       "      <td>2019-09-20</td>\n",
       "      <td>NaN</td>\n",
       "      <td>Dog</td>\n",
       "      <td>11 Berry Pups\\nIndividual pics will be done.  ...</td>\n",
       "      <td>127</td>\n",
       "      <td>429.87</td>\n",
       "    </tr>\n",
       "    <tr>\n",
       "      <th>31581</th>\n",
       "      <td>44538917</td>\n",
       "      <td>OH907</td>\n",
       "      <td>https://www.petfinder.com/dog/leila-courtesy-p...</td>\n",
       "      <td>Dog</td>\n",
       "      <td>Dog</td>\n",
       "      <td>Australian Shepherd</td>\n",
       "      <td>Husky</td>\n",
       "      <td>True</td>\n",
       "      <td>False</td>\n",
       "      <td>Tricolor (Brown, Black, &amp; White)</td>\n",
       "      <td>...</td>\n",
       "      <td>OH</td>\n",
       "      <td>45061</td>\n",
       "      <td>US</td>\n",
       "      <td>IN</td>\n",
       "      <td>2019-09-20</td>\n",
       "      <td>NaN</td>\n",
       "      <td>Dog</td>\n",
       "      <td>THIS IS A COURTESY POST (this means that any a...</td>\n",
       "      <td>92</td>\n",
       "      <td>188.49</td>\n",
       "    </tr>\n",
       "    <tr>\n",
       "      <th>31888</th>\n",
       "      <td>41430442</td>\n",
       "      <td>OH907</td>\n",
       "      <td>https://www.petfinder.com/dog/eden-in-training...</td>\n",
       "      <td>Dog</td>\n",
       "      <td>Dog</td>\n",
       "      <td>Hound</td>\n",
       "      <td>NaN</td>\n",
       "      <td>True</td>\n",
       "      <td>False</td>\n",
       "      <td>White / Cream</td>\n",
       "      <td>...</td>\n",
       "      <td>OH</td>\n",
       "      <td>45061</td>\n",
       "      <td>US</td>\n",
       "      <td>IN</td>\n",
       "      <td>2019-09-20</td>\n",
       "      <td>NaN</td>\n",
       "      <td>Dog</td>\n",
       "      <td>Eden is estimated 3 years old and weighs 40 lb...</td>\n",
       "      <td>97</td>\n",
       "      <td>238.60</td>\n",
       "    </tr>\n",
       "    <tr>\n",
       "      <th>33000</th>\n",
       "      <td>45907639</td>\n",
       "      <td>IN714</td>\n",
       "      <td>https://www.petfinder.com/dog/coach-chris-mack...</td>\n",
       "      <td>Dog</td>\n",
       "      <td>Dog</td>\n",
       "      <td>Chihuahua</td>\n",
       "      <td>Beagle</td>\n",
       "      <td>True</td>\n",
       "      <td>False</td>\n",
       "      <td>Yellow / Tan / Blond / Fawn</td>\n",
       "      <td>...</td>\n",
       "      <td>IN</td>\n",
       "      <td>47131</td>\n",
       "      <td>US</td>\n",
       "      <td>KY</td>\n",
       "      <td>2019-09-20</td>\n",
       "      <td>NaN</td>\n",
       "      <td>Dog</td>\n",
       "      <td>Mack is a 2 year old, 13 pound furry chihuahua...</td>\n",
       "      <td>101</td>\n",
       "      <td>478.36</td>\n",
       "    </tr>\n",
       "    <tr>\n",
       "      <th>33527</th>\n",
       "      <td>45362806</td>\n",
       "      <td>OH852</td>\n",
       "      <td>https://www.petfinder.com/dog/liberty-libby-45...</td>\n",
       "      <td>Dog</td>\n",
       "      <td>Dog</td>\n",
       "      <td>Pomeranian</td>\n",
       "      <td>NaN</td>\n",
       "      <td>False</td>\n",
       "      <td>False</td>\n",
       "      <td>NaN</td>\n",
       "      <td>...</td>\n",
       "      <td>OH</td>\n",
       "      <td>45249</td>\n",
       "      <td>US</td>\n",
       "      <td>KY</td>\n",
       "      <td>2019-09-20</td>\n",
       "      <td>NaN</td>\n",
       "      <td>Dog</td>\n",
       "      <td>Liberty came to us on the 3rd of July - she ha...</td>\n",
       "      <td>65</td>\n",
       "      <td>185.05</td>\n",
       "    </tr>\n",
       "    <tr>\n",
       "      <th>34188</th>\n",
       "      <td>32590894</td>\n",
       "      <td>IN595</td>\n",
       "      <td>https://www.petfinder.com/dog/samson-sam-32590...</td>\n",
       "      <td>Dog</td>\n",
       "      <td>Dog</td>\n",
       "      <td>Mastiff</td>\n",
       "      <td>Labrador Retriever</td>\n",
       "      <td>True</td>\n",
       "      <td>False</td>\n",
       "      <td>Black</td>\n",
       "      <td>...</td>\n",
       "      <td>IN</td>\n",
       "      <td>47454</td>\n",
       "      <td>US</td>\n",
       "      <td>KY</td>\n",
       "      <td>2019-09-20</td>\n",
       "      <td>NaN</td>\n",
       "      <td>Dog</td>\n",
       "      <td>DUE TO PROBLEMS WITH THE CURRENT PETFINDER UPD...</td>\n",
       "      <td>116</td>\n",
       "      <td>413.96</td>\n",
       "    </tr>\n",
       "    <tr>\n",
       "      <th>35065</th>\n",
       "      <td>31426754</td>\n",
       "      <td>LA256</td>\n",
       "      <td>https://www.petfinder.com/dog/sully-sullivan-3...</td>\n",
       "      <td>Dog</td>\n",
       "      <td>Dog</td>\n",
       "      <td>Pit Bull Terrier</td>\n",
       "      <td>NaN</td>\n",
       "      <td>False</td>\n",
       "      <td>False</td>\n",
       "      <td>Black</td>\n",
       "      <td>...</td>\n",
       "      <td>LA</td>\n",
       "      <td>70601</td>\n",
       "      <td>US</td>\n",
       "      <td>LA</td>\n",
       "      <td>2019-09-20</td>\n",
       "      <td>NaN</td>\n",
       "      <td>Dog</td>\n",
       "      <td>Hi my name is Sully! I get along with most dog...</td>\n",
       "      <td>122</td>\n",
       "      <td>204.63</td>\n",
       "    </tr>\n",
       "    <tr>\n",
       "      <th>44830</th>\n",
       "      <td>46037827</td>\n",
       "      <td>NM133</td>\n",
       "      <td>https://www.petfinder.com/dog/periwinkle-wink-...</td>\n",
       "      <td>Dog</td>\n",
       "      <td>Dog</td>\n",
       "      <td>Australian Shepherd</td>\n",
       "      <td>Spaniel</td>\n",
       "      <td>True</td>\n",
       "      <td>False</td>\n",
       "      <td>Brown / Chocolate</td>\n",
       "      <td>...</td>\n",
       "      <td>NM</td>\n",
       "      <td>87108</td>\n",
       "      <td>US</td>\n",
       "      <td>NM</td>\n",
       "      <td>2019-09-20</td>\n",
       "      <td>NaN</td>\n",
       "      <td>Dog</td>\n",
       "      <td>We take the time to post pertinent information...</td>\n",
       "      <td>85</td>\n",
       "      <td>296.75</td>\n",
       "    </tr>\n",
       "    <tr>\n",
       "      <th>53168</th>\n",
       "      <td>44044071</td>\n",
       "      <td>TN669</td>\n",
       "      <td>https://www.petfinder.com/dog/raymond-reddingt...</td>\n",
       "      <td>Dog</td>\n",
       "      <td>Dog</td>\n",
       "      <td>American Staffordshire Terrier</td>\n",
       "      <td>NaN</td>\n",
       "      <td>True</td>\n",
       "      <td>False</td>\n",
       "      <td>Red / Chestnut / Orange</td>\n",
       "      <td>...</td>\n",
       "      <td>TN</td>\n",
       "      <td>38506</td>\n",
       "      <td>US</td>\n",
       "      <td>TN</td>\n",
       "      <td>2019-09-20</td>\n",
       "      <td>NaN</td>\n",
       "      <td>Dog</td>\n",
       "      <td>Red  is a 4-5 yr old Staffey mix that is a wig...</td>\n",
       "      <td>88</td>\n",
       "      <td>230.12</td>\n",
       "    </tr>\n",
       "    <tr>\n",
       "      <th>53539</th>\n",
       "      <td>27521132</td>\n",
       "      <td>TN577</td>\n",
       "      <td>https://www.petfinder.com/dog/norma-rose-rosie...</td>\n",
       "      <td>Dog</td>\n",
       "      <td>Dog</td>\n",
       "      <td>Yellow Labrador Retriever</td>\n",
       "      <td>American Staffordshire Terrier</td>\n",
       "      <td>True</td>\n",
       "      <td>False</td>\n",
       "      <td>Yellow / Tan / Blond / Fawn</td>\n",
       "      <td>...</td>\n",
       "      <td>TN</td>\n",
       "      <td>37189</td>\n",
       "      <td>US</td>\n",
       "      <td>TN</td>\n",
       "      <td>2019-09-20</td>\n",
       "      <td>NaN</td>\n",
       "      <td>Dog</td>\n",
       "      <td>Robyn's Nest Animal Rescue &amp; SanctuaryNashvill...</td>\n",
       "      <td>93</td>\n",
       "      <td>300.50</td>\n",
       "    </tr>\n",
       "    <tr>\n",
       "      <th>55434</th>\n",
       "      <td>38473806</td>\n",
       "      <td>VA486</td>\n",
       "      <td>https://www.petfinder.com/dog/markey-moose-384...</td>\n",
       "      <td>Dog</td>\n",
       "      <td>Dog</td>\n",
       "      <td>Hound</td>\n",
       "      <td>NaN</td>\n",
       "      <td>False</td>\n",
       "      <td>False</td>\n",
       "      <td>White / Cream</td>\n",
       "      <td>...</td>\n",
       "      <td>VA</td>\n",
       "      <td>24588</td>\n",
       "      <td>US</td>\n",
       "      <td>VA</td>\n",
       "      <td>2019-09-20</td>\n",
       "      <td>NaN</td>\n",
       "      <td>Dog</td>\n",
       "      <td>Markey \\\"Moose\\\" first came to us after being ...</td>\n",
       "      <td>78</td>\n",
       "      <td>71.15</td>\n",
       "    </tr>\n",
       "    <tr>\n",
       "      <th>55467</th>\n",
       "      <td>34101432</td>\n",
       "      <td>VA628</td>\n",
       "      <td>https://www.petfinder.com/dog/george-boy-georg...</td>\n",
       "      <td>Dog</td>\n",
       "      <td>Dog</td>\n",
       "      <td>Labrador Retriever</td>\n",
       "      <td>NaN</td>\n",
       "      <td>True</td>\n",
       "      <td>False</td>\n",
       "      <td>Yellow / Tan / Blond / Fawn</td>\n",
       "      <td>...</td>\n",
       "      <td>VA</td>\n",
       "      <td>23112</td>\n",
       "      <td>US</td>\n",
       "      <td>VA</td>\n",
       "      <td>2019-09-20</td>\n",
       "      <td>NaN</td>\n",
       "      <td>Dog</td>\n",
       "      <td>Contact dojennings@Comcast.net or Debbie Jenni...</td>\n",
       "      <td>115</td>\n",
       "      <td>320.23</td>\n",
       "    </tr>\n",
       "    <tr>\n",
       "      <th>55915</th>\n",
       "      <td>45958435</td>\n",
       "      <td>WA581</td>\n",
       "      <td>https://www.petfinder.com/dog/skipper-45958435...</td>\n",
       "      <td>Dog</td>\n",
       "      <td>Dog</td>\n",
       "      <td>Yorkshire Terrier</td>\n",
       "      <td>Terrier</td>\n",
       "      <td>True</td>\n",
       "      <td>False</td>\n",
       "      <td>Tricolor (Brown, Black, &amp; White)</td>\n",
       "      <td>...</td>\n",
       "      <td>WA</td>\n",
       "      <td>98106</td>\n",
       "      <td>US</td>\n",
       "      <td>WA</td>\n",
       "      <td>2019-09-20</td>\n",
       "      <td>NaN</td>\n",
       "      <td>Dog</td>\n",
       "      <td>For a quicker response please submit a online ...</td>\n",
       "      <td>102</td>\n",
       "      <td>338.18</td>\n",
       "    </tr>\n",
       "    <tr>\n",
       "      <th>55975</th>\n",
       "      <td>45927580</td>\n",
       "      <td>WA581</td>\n",
       "      <td>https://www.petfinder.com/dog/bella-45927580/w...</td>\n",
       "      <td>Dog</td>\n",
       "      <td>Dog</td>\n",
       "      <td>Chihuahua</td>\n",
       "      <td>NaN</td>\n",
       "      <td>False</td>\n",
       "      <td>False</td>\n",
       "      <td>White / Cream</td>\n",
       "      <td>...</td>\n",
       "      <td>WA</td>\n",
       "      <td>98106</td>\n",
       "      <td>US</td>\n",
       "      <td>WA</td>\n",
       "      <td>2019-09-20</td>\n",
       "      <td>NaN</td>\n",
       "      <td>Dog</td>\n",
       "      <td>Meet \\\"Bella\\\" She is a adorable and 7 pounds ...</td>\n",
       "      <td>102</td>\n",
       "      <td>407.51</td>\n",
       "    </tr>\n",
       "    <tr>\n",
       "      <th>56013</th>\n",
       "      <td>45916348</td>\n",
       "      <td>WA581</td>\n",
       "      <td>https://www.petfinder.com/dog/cody-45916348/wa...</td>\n",
       "      <td>Dog</td>\n",
       "      <td>Dog</td>\n",
       "      <td>Golden Retriever</td>\n",
       "      <td>Terrier</td>\n",
       "      <td>True</td>\n",
       "      <td>False</td>\n",
       "      <td>Bicolor</td>\n",
       "      <td>...</td>\n",
       "      <td>WA</td>\n",
       "      <td>98106</td>\n",
       "      <td>US</td>\n",
       "      <td>WA</td>\n",
       "      <td>2019-09-20</td>\n",
       "      <td>NaN</td>\n",
       "      <td>Dog</td>\n",
       "      <td>*Please apply online at www.6dogrees.com to ge...</td>\n",
       "      <td>92</td>\n",
       "      <td>164.55</td>\n",
       "    </tr>\n",
       "    <tr>\n",
       "      <th>56248</th>\n",
       "      <td>45733027</td>\n",
       "      <td>WA581</td>\n",
       "      <td>https://www.petfinder.com/dog/gracie-45733027/...</td>\n",
       "      <td>Dog</td>\n",
       "      <td>Dog</td>\n",
       "      <td>Papillon</td>\n",
       "      <td>Cavalier King Charles Spaniel</td>\n",
       "      <td>True</td>\n",
       "      <td>False</td>\n",
       "      <td>Golden</td>\n",
       "      <td>...</td>\n",
       "      <td>WA</td>\n",
       "      <td>98106</td>\n",
       "      <td>US</td>\n",
       "      <td>WA</td>\n",
       "      <td>2019-09-20</td>\n",
       "      <td>NaN</td>\n",
       "      <td>Dog</td>\n",
       "      <td>Meet \\\"Gracie\\\" a very beautiful 11 pound,fema...</td>\n",
       "      <td>82</td>\n",
       "      <td>168.54</td>\n",
       "    </tr>\n",
       "    <tr>\n",
       "      <th>56464</th>\n",
       "      <td>45413997</td>\n",
       "      <td>WA581</td>\n",
       "      <td>https://www.petfinder.com/dog/jameson-45413997...</td>\n",
       "      <td>Dog</td>\n",
       "      <td>Dog</td>\n",
       "      <td>Rat Terrier</td>\n",
       "      <td>Chihuahua</td>\n",
       "      <td>True</td>\n",
       "      <td>False</td>\n",
       "      <td>Tricolor (Brown, Black, &amp; White)</td>\n",
       "      <td>...</td>\n",
       "      <td>WA</td>\n",
       "      <td>98106</td>\n",
       "      <td>US</td>\n",
       "      <td>WA</td>\n",
       "      <td>2019-09-20</td>\n",
       "      <td>NaN</td>\n",
       "      <td>Dog</td>\n",
       "      <td>Meet \\\"Jameson\\\" He is a very handsome 9 pound...</td>\n",
       "      <td>108</td>\n",
       "      <td>297.27</td>\n",
       "    </tr>\n",
       "    <tr>\n",
       "      <th>56473</th>\n",
       "      <td>45406516</td>\n",
       "      <td>WA581</td>\n",
       "      <td>https://www.petfinder.com/dog/canelo-45406516/...</td>\n",
       "      <td>Dog</td>\n",
       "      <td>Dog</td>\n",
       "      <td>Chihuahua</td>\n",
       "      <td>Terrier</td>\n",
       "      <td>True</td>\n",
       "      <td>False</td>\n",
       "      <td>Bicolor</td>\n",
       "      <td>...</td>\n",
       "      <td>WA</td>\n",
       "      <td>98106</td>\n",
       "      <td>US</td>\n",
       "      <td>WA</td>\n",
       "      <td>2019-09-20</td>\n",
       "      <td>NaN</td>\n",
       "      <td>Dog</td>\n",
       "      <td>Meet Canelo  a adorable  small, tan very sweet...</td>\n",
       "      <td>94</td>\n",
       "      <td>312.10</td>\n",
       "    </tr>\n",
       "    <tr>\n",
       "      <th>56541</th>\n",
       "      <td>45264615</td>\n",
       "      <td>WA581</td>\n",
       "      <td>https://www.petfinder.com/dog/noni-45264615/wa...</td>\n",
       "      <td>Dog</td>\n",
       "      <td>Dog</td>\n",
       "      <td>Chihuahua</td>\n",
       "      <td>Terrier</td>\n",
       "      <td>True</td>\n",
       "      <td>False</td>\n",
       "      <td>Black</td>\n",
       "      <td>...</td>\n",
       "      <td>WA</td>\n",
       "      <td>98106</td>\n",
       "      <td>US</td>\n",
       "      <td>WA</td>\n",
       "      <td>2019-09-20</td>\n",
       "      <td>NaN</td>\n",
       "      <td>Dog</td>\n",
       "      <td>Meet \\\"Noni\\\" She is a Black and white smooth ...</td>\n",
       "      <td>77</td>\n",
       "      <td>290.16</td>\n",
       "    </tr>\n",
       "  </tbody>\n",
       "</table>\n",
       "<p>33 rows × 37 columns</p>\n",
       "</div>"
      ],
      "text/plain": [
       "             id  org_id                                                url  \\\n",
       "644    41330726   NV173  https://www.petfinder.com/dog/gunther-gunny-41...   \n",
       "5549   38169117   AZ414  https://www.petfinder.com/dog/annabelle-annie-...   \n",
       "10888  45833989    NY98  https://www.petfinder.com/dog/pepper-courtesy-...   \n",
       "11983  45515547    NY98  https://www.petfinder.com/dog/cooper-courtesy-...   \n",
       "12495  45294115    NY98  https://www.petfinder.com/dog/daisy-courtesy-l...   \n",
       "12600  45229004  NY1436  https://www.petfinder.com/dog/elmo-momo-452290...   \n",
       "12613  45227052  NY1436  https://www.petfinder.com/dog/bianca-pinky-452...   \n",
       "17619  45569380  CA1209  https://www.petfinder.com/dog/baby-girl-455693...   \n",
       "18611  44694387   MD295  https://www.petfinder.com/dog/king-bert-bertie...   \n",
       "19747  36978896   VA127  https://www.petfinder.com/dog/maddie-cutie-pat...   \n",
       "19845  33218331   VA127  https://www.petfinder.com/dog/bucky-are-u-my-h...   \n",
       "22161  42092005   PA738  https://www.petfinder.com/dog/chloe-little-ras...   \n",
       "22229  39594038   PA562  https://www.petfinder.com/dog/cozi-h-wilson-lo...   \n",
       "29283  45895274   IL688  https://www.petfinder.com/dog/gibson-edgar-gib...   \n",
       "30471  45964719   IN694  https://www.petfinder.com/dog/puppies-berries-...   \n",
       "31581  44538917   OH907  https://www.petfinder.com/dog/leila-courtesy-p...   \n",
       "31888  41430442   OH907  https://www.petfinder.com/dog/eden-in-training...   \n",
       "33000  45907639   IN714  https://www.petfinder.com/dog/coach-chris-mack...   \n",
       "33527  45362806   OH852  https://www.petfinder.com/dog/liberty-libby-45...   \n",
       "34188  32590894   IN595  https://www.petfinder.com/dog/samson-sam-32590...   \n",
       "35065  31426754   LA256  https://www.petfinder.com/dog/sully-sullivan-3...   \n",
       "44830  46037827   NM133  https://www.petfinder.com/dog/periwinkle-wink-...   \n",
       "53168  44044071   TN669  https://www.petfinder.com/dog/raymond-reddingt...   \n",
       "53539  27521132   TN577  https://www.petfinder.com/dog/norma-rose-rosie...   \n",
       "55434  38473806   VA486  https://www.petfinder.com/dog/markey-moose-384...   \n",
       "55467  34101432   VA628  https://www.petfinder.com/dog/george-boy-georg...   \n",
       "55915  45958435   WA581  https://www.petfinder.com/dog/skipper-45958435...   \n",
       "55975  45927580   WA581  https://www.petfinder.com/dog/bella-45927580/w...   \n",
       "56013  45916348   WA581  https://www.petfinder.com/dog/cody-45916348/wa...   \n",
       "56248  45733027   WA581  https://www.petfinder.com/dog/gracie-45733027/...   \n",
       "56464  45413997   WA581  https://www.petfinder.com/dog/jameson-45413997...   \n",
       "56473  45406516   WA581  https://www.petfinder.com/dog/canelo-45406516/...   \n",
       "56541  45264615   WA581  https://www.petfinder.com/dog/noni-45264615/wa...   \n",
       "\n",
       "      type.x species                   breed_primary  \\\n",
       "644      Dog     Dog             German Shepherd Dog   \n",
       "5549     Dog     Dog                           Boxer   \n",
       "10888    Dog     Dog                          Beagle   \n",
       "11983    Dog     Dog                     Mixed Breed   \n",
       "12495    Dog     Dog                    Basset Hound   \n",
       "12600    Dog     Dog                American Bulldog   \n",
       "12613    Dog     Dog                     Mixed Breed   \n",
       "17619    Dog     Dog                         Maltese   \n",
       "18611    Dog     Dog                     Fox Terrier   \n",
       "19747    Dog     Dog                Alaskan Malamute   \n",
       "19845    Dog     Dog                Alaskan Malamute   \n",
       "22161    Dog     Dog                Pit Bull Terrier   \n",
       "22229    Dog     Dog                Pit Bull Terrier   \n",
       "29283    Dog     Dog              Labrador Retriever   \n",
       "30471    Dog     Dog  American Staffordshire Terrier   \n",
       "31581    Dog     Dog             Australian Shepherd   \n",
       "31888    Dog     Dog                           Hound   \n",
       "33000    Dog     Dog                       Chihuahua   \n",
       "33527    Dog     Dog                      Pomeranian   \n",
       "34188    Dog     Dog                         Mastiff   \n",
       "35065    Dog     Dog                Pit Bull Terrier   \n",
       "44830    Dog     Dog             Australian Shepherd   \n",
       "53168    Dog     Dog  American Staffordshire Terrier   \n",
       "53539    Dog     Dog       Yellow Labrador Retriever   \n",
       "55434    Dog     Dog                           Hound   \n",
       "55467    Dog     Dog              Labrador Retriever   \n",
       "55915    Dog     Dog               Yorkshire Terrier   \n",
       "55975    Dog     Dog                       Chihuahua   \n",
       "56013    Dog     Dog                Golden Retriever   \n",
       "56248    Dog     Dog                        Papillon   \n",
       "56464    Dog     Dog                     Rat Terrier   \n",
       "56473    Dog     Dog                       Chihuahua   \n",
       "56541    Dog     Dog                       Chihuahua   \n",
       "\n",
       "                      breed_secondary  breed_mixed  breed_unknown  \\\n",
       "644                               NaN        False          False   \n",
       "5549                 Pit Bull Terrier         True          False   \n",
       "10888                             NaN        False          False   \n",
       "11983                             NaN        False          False   \n",
       "12495                             NaN        False          False   \n",
       "12600                             NaN         True          False   \n",
       "12613                             NaN        False          False   \n",
       "17619                             NaN        False          False   \n",
       "18611                       Chihuahua         True          False   \n",
       "19747                             NaN        False          False   \n",
       "19845                  Siberian Husky         True          False   \n",
       "22161                         Pointer         True          False   \n",
       "22229                             NaN         True          False   \n",
       "29283                             NaN         True          False   \n",
       "30471                   Border Collie         True          False   \n",
       "31581                           Husky         True          False   \n",
       "31888                             NaN         True          False   \n",
       "33000                          Beagle         True          False   \n",
       "33527                             NaN        False          False   \n",
       "34188              Labrador Retriever         True          False   \n",
       "35065                             NaN        False          False   \n",
       "44830                         Spaniel         True          False   \n",
       "53168                             NaN         True          False   \n",
       "53539  American Staffordshire Terrier         True          False   \n",
       "55434                             NaN        False          False   \n",
       "55467                             NaN         True          False   \n",
       "55915                         Terrier         True          False   \n",
       "55975                             NaN        False          False   \n",
       "56013                         Terrier         True          False   \n",
       "56248   Cavalier King Charles Spaniel         True          False   \n",
       "56464                       Chihuahua         True          False   \n",
       "56473                         Terrier         True          False   \n",
       "56541                         Terrier         True          False   \n",
       "\n",
       "                          color_primary  ... contact_city contact_state  \\\n",
       "644                                 NaN  ...           NV         89146   \n",
       "5549                              Black  ...           AZ         85249   \n",
       "10888                               NaN  ...           NY         12220   \n",
       "11983                               NaN  ...           NY         12220   \n",
       "12495                 Brown / Chocolate  ...           NY         12220   \n",
       "12600                               NaN  ...           NY         12477   \n",
       "12613                     White / Cream  ...           NY         12477   \n",
       "17619                     White / Cream  ...           VA         20136   \n",
       "18611                           Bicolor  ...           MD         20905   \n",
       "19747                           Bicolor  ...           PA         17325   \n",
       "19845              Gray / Blue / Silver  ...           PA         17325   \n",
       "22161                             Black  ...           PA         19063   \n",
       "22229                               NaN  ...           PA         19053   \n",
       "29283                 Brown / Chocolate  ...           IL         61944   \n",
       "30471                             Black  ...           IN         46158   \n",
       "31581  Tricolor (Brown, Black, & White)  ...           OH         45061   \n",
       "31888                     White / Cream  ...           OH         45061   \n",
       "33000       Yellow / Tan / Blond / Fawn  ...           IN         47131   \n",
       "33527                               NaN  ...           OH         45249   \n",
       "34188                             Black  ...           IN         47454   \n",
       "35065                             Black  ...           LA         70601   \n",
       "44830                 Brown / Chocolate  ...           NM         87108   \n",
       "53168           Red / Chestnut / Orange  ...           TN         38506   \n",
       "53539       Yellow / Tan / Blond / Fawn  ...           TN         37189   \n",
       "55434                     White / Cream  ...           VA         24588   \n",
       "55467       Yellow / Tan / Blond / Fawn  ...           VA         23112   \n",
       "55915  Tricolor (Brown, Black, & White)  ...           WA         98106   \n",
       "55975                     White / Cream  ...           WA         98106   \n",
       "56013                           Bicolor  ...           WA         98106   \n",
       "56248                            Golden  ...           WA         98106   \n",
       "56464  Tricolor (Brown, Black, & White)  ...           WA         98106   \n",
       "56473                           Bicolor  ...           WA         98106   \n",
       "56541                             Black  ...           WA         98106   \n",
       "\n",
       "      contact_zip contact_country      stateQ accessed  type.y  \\\n",
       "644            US           89009  2019-09-20      NaN     Dog   \n",
       "5549           US              AZ  2019-09-20      NaN     Dog   \n",
       "10888          US              CT  2019-09-20      NaN     Dog   \n",
       "11983          US              CT  2019-09-20      NaN     Dog   \n",
       "12495          US              CT  2019-09-20      NaN     Dog   \n",
       "12600          US              CT  2019-09-20      NaN     Dog   \n",
       "12613          US              CT  2019-09-20      NaN     Dog   \n",
       "17619          US              DC  2019-09-20      NaN     Dog   \n",
       "18611          US              DC  2019-09-20      NaN     Dog   \n",
       "19747          US              DC  2019-09-20      NaN     Dog   \n",
       "19845          US              DC  2019-09-20      NaN     Dog   \n",
       "22161          US              DE  2019-09-20      NaN     Dog   \n",
       "22229          US              DE  2019-09-20      NaN     Dog   \n",
       "29283          US              IL  2019-09-20      NaN     Dog   \n",
       "30471          US              IN  2019-09-20      NaN     Dog   \n",
       "31581          US              IN  2019-09-20      NaN     Dog   \n",
       "31888          US              IN  2019-09-20      NaN     Dog   \n",
       "33000          US              KY  2019-09-20      NaN     Dog   \n",
       "33527          US              KY  2019-09-20      NaN     Dog   \n",
       "34188          US              KY  2019-09-20      NaN     Dog   \n",
       "35065          US              LA  2019-09-20      NaN     Dog   \n",
       "44830          US              NM  2019-09-20      NaN     Dog   \n",
       "53168          US              TN  2019-09-20      NaN     Dog   \n",
       "53539          US              TN  2019-09-20      NaN     Dog   \n",
       "55434          US              VA  2019-09-20      NaN     Dog   \n",
       "55467          US              VA  2019-09-20      NaN     Dog   \n",
       "55915          US              WA  2019-09-20      NaN     Dog   \n",
       "55975          US              WA  2019-09-20      NaN     Dog   \n",
       "56013          US              WA  2019-09-20      NaN     Dog   \n",
       "56248          US              WA  2019-09-20      NaN     Dog   \n",
       "56464          US              WA  2019-09-20      NaN     Dog   \n",
       "56473          US              WA  2019-09-20      NaN     Dog   \n",
       "56541          US              WA  2019-09-20      NaN     Dog   \n",
       "\n",
       "                                             description  stay_duration  \\\n",
       "644    Meet handsome 3 year old Gunther. Gunther came...            108   \n",
       "5549   You can fill out an adoption application onlin...             80   \n",
       "10888  This is Pepper. He is a 15 year old tri-color ...             86   \n",
       "11983  Cooper is 13 years old, but according to a ver...            105   \n",
       "12495  Ã¢ÂÂ¢Basset Hound, female, Ã¢ÂÂ¢10 years \\n\\...             57   \n",
       "12600  Hello i'm MoMo or Elmo , 7 year old, mixed bre...             73   \n",
       "12613  Hello I'm Bianca, a female, 7 year old mixed b...            107   \n",
       "17619  This 10-year young senior is very sweet and lo...             76   \n",
       "18611  \\\"Bertie\\\" came to us from the shelter.  He wa...             61   \n",
       "19747  Maddie is our little Miss Cutie Patootie! She ...            119   \n",
       "19845  Born in August 2014, Bucky has a great sense o...             98   \n",
       "22161                   Meet Chloe our \\\"Little Rascal.\\            113   \n",
       "22229  01.04.19\\nHi Folks! IÃ¢ÂÂm Cozi and IÃ¢ÂÂm...             88   \n",
       "29283  Gibson Edgar is a 12 month old male Lab mix th...             74   \n",
       "30471  11 Berry Pups\\nIndividual pics will be done.  ...            127   \n",
       "31581  THIS IS A COURTESY POST (this means that any a...             92   \n",
       "31888  Eden is estimated 3 years old and weighs 40 lb...             97   \n",
       "33000  Mack is a 2 year old, 13 pound furry chihuahua...            101   \n",
       "33527  Liberty came to us on the 3rd of July - she ha...             65   \n",
       "34188  DUE TO PROBLEMS WITH THE CURRENT PETFINDER UPD...            116   \n",
       "35065  Hi my name is Sully! I get along with most dog...            122   \n",
       "44830  We take the time to post pertinent information...             85   \n",
       "53168  Red  is a 4-5 yr old Staffey mix that is a wig...             88   \n",
       "53539  Robyn's Nest Animal Rescue & SanctuaryNashvill...             93   \n",
       "55434  Markey \\\"Moose\\\" first came to us after being ...             78   \n",
       "55467  Contact dojennings@Comcast.net or Debbie Jenni...            115   \n",
       "55915  For a quicker response please submit a online ...            102   \n",
       "55975  Meet \\\"Bella\\\" She is a adorable and 7 pounds ...            102   \n",
       "56013  *Please apply online at www.6dogrees.com to ge...             92   \n",
       "56248  Meet \\\"Gracie\\\" a very beautiful 11 pound,fema...             82   \n",
       "56464  Meet \\\"Jameson\\\" He is a very handsome 9 pound...            108   \n",
       "56473  Meet Canelo  a adorable  small, tan very sweet...             94   \n",
       "56541  Meet \\\"Noni\\\" She is a Black and white smooth ...             77   \n",
       "\n",
       "       stay_cost  \n",
       "644       256.88  \n",
       "5549      130.77  \n",
       "10888     180.70  \n",
       "11983     400.82  \n",
       "12495      82.61  \n",
       "12600     136.30  \n",
       "12613     231.31  \n",
       "17619     263.63  \n",
       "18611     158.84  \n",
       "19747     431.66  \n",
       "19845     346.67  \n",
       "22161     279.59  \n",
       "22229     360.84  \n",
       "29283     121.56  \n",
       "30471     429.87  \n",
       "31581     188.49  \n",
       "31888     238.60  \n",
       "33000     478.36  \n",
       "33527     185.05  \n",
       "34188     413.96  \n",
       "35065     204.63  \n",
       "44830     296.75  \n",
       "53168     230.12  \n",
       "53539     300.50  \n",
       "55434      71.15  \n",
       "55467     320.23  \n",
       "55915     338.18  \n",
       "55975     407.51  \n",
       "56013     164.55  \n",
       "56248     168.54  \n",
       "56464     297.27  \n",
       "56473     312.10  \n",
       "56541     290.16  \n",
       "\n",
       "[33 rows x 37 columns]"
      ]
     },
     "execution_count": 5,
     "metadata": {},
     "output_type": "execute_result"
    }
   ],
   "source": [
    "df_mask = dogs.status != \"adoptable\"\n",
    "dogs[df_mask]"
   ]
  },
  {
   "cell_type": "markdown",
   "id": "acfd2da9",
   "metadata": {},
   "source": [
    "# 2. For each (primary) breed, determine the number of dogs"
   ]
  },
  {
   "cell_type": "code",
   "execution_count": 6,
   "id": "11450574",
   "metadata": {},
   "outputs": [
    {
     "data": {
      "text/plain": [
       "breed_primary\n",
       "Affenpinscher                         17\n",
       "Afghan Hound                           4\n",
       "Airedale Terrier                      19\n",
       "Akbash                                 3\n",
       "Akita                                181\n",
       "                                    ... \n",
       "Wirehaired Pointing Griffon            1\n",
       "Wirehaired Terrier                    60\n",
       "Xoloitzcuintli / Mexican Hairless     11\n",
       "Yellow Labrador Retriever            158\n",
       "Yorkshire Terrier                    360\n",
       "Name: id, Length: 216, dtype: int64"
      ]
     },
     "execution_count": 6,
     "metadata": {},
     "output_type": "execute_result"
    }
   ],
   "source": [
    "razza = dogs.groupby(by = \"breed_primary\").count()\n",
    "razza.id"
   ]
  },
  {
   "cell_type": "markdown",
   "id": "f8f1c35d",
   "metadata": {},
   "source": [
    "# 3. For each (primary) breed, determine the ratio between the number of dogs of Mixed Breed and those not of Mixed Breed. Hint: look at the secondary_breed."
   ]
  },
  {
   "cell_type": "code",
   "execution_count": 7,
   "id": "1fe5b2ba",
   "metadata": {},
   "outputs": [
    {
     "data": {
      "text/plain": [
       "(58180, 37)"
      ]
     },
     "execution_count": 7,
     "metadata": {},
     "output_type": "execute_result"
    }
   ],
   "source": [
    "#spampa dimensioni dateset\n",
    "dim=np.array(dogs)\n",
    "dim.shape"
   ]
  },
  {
   "cell_type": "code",
   "execution_count": 8,
   "id": "1fcc03c1",
   "metadata": {},
   "outputs": [
    {
     "data": {
      "text/plain": [
       "(216, 36)"
      ]
     },
     "execution_count": 8,
     "metadata": {},
     "output_type": "execute_result"
    }
   ],
   "source": [
    "#spampa dimensioni dateset\n",
    "dim_razza =np.array(razza)\n",
    "dim_razza.shape"
   ]
  },
  {
   "cell_type": "code",
   "execution_count": 85,
   "id": "552e6e88",
   "metadata": {},
   "outputs": [],
   "source": [
    "#conta dei cani di razza mista e non\n",
    "lmix = []\n",
    "lnmix = []\n",
    "for i in range(len(razza)):\n",
    "    mix = 0\n",
    "    nmix = 0\n",
    "    for j in range(len(dogs)):\n",
    "        if razza.index[i] == dogs.breed_primary[j]:\n",
    "            if dogs.breed_mixed[j] :\n",
    "                mix = mix + 1\n",
    "            elif not(dogs.breed_mixed[i]) :\n",
    "                nmix = nmix +1\n",
    "    lmix.append(mix)\n",
    "    lnmix.append(nmix)"
   ]
  },
  {
   "cell_type": "code",
   "execution_count": 86,
   "id": "dcb96b26",
   "metadata": {},
   "outputs": [
    {
     "name": "stdout",
     "output_type": "stream",
     "text": [
      "                                   Mixed  Not_Mixed\n",
      "breed_primary                                      \n",
      "Affenpinscher                          5          0\n",
      "Afghan Hound                           4          0\n",
      "Airedale Terrier                      17          0\n",
      "Akbash                                 2          0\n",
      "Akita                                 83         98\n",
      "...                                  ...        ...\n",
      "Wirehaired Pointing Griffon            1          0\n",
      "Wirehaired Terrier                    45         15\n",
      "Xoloitzcuintli / Mexican Hairless      5          0\n",
      "Yellow Labrador Retriever            121          0\n",
      "Yorkshire Terrier                    202          0\n",
      "\n",
      "[216 rows x 2 columns]\n"
     ]
    }
   ],
   "source": [
    "razza['Mixed'] = lmix\n",
    "razza['Not_Mixed'] = lnmix\n",
    "columns_to_print = ['Mixed', 'Not_Mixed']\n",
    "print(razza[columns_to_print])"
   ]
  },
  {
   "cell_type": "markdown",
   "id": "36dded0f",
   "metadata": {},
   "source": [
    "# 4. For each (primary) breed, determine the earliest and the latest posted timestamp.           "
   ]
  },
  {
   "cell_type": "code",
   "execution_count": 36,
   "id": "8709761c",
   "metadata": {},
   "outputs": [
    {
     "data": {
      "text/plain": [
       "(58158, 37)"
      ]
     },
     "execution_count": 36,
     "metadata": {},
     "output_type": "execute_result"
    }
   ],
   "source": [
    "dim=np.array(dogs)\n",
    "dim.shape"
   ]
  },
  {
   "cell_type": "code",
   "execution_count": 37,
   "id": "a8569dc0",
   "metadata": {},
   "outputs": [
    {
     "data": {
      "text/plain": [
       "58157"
      ]
     },
     "execution_count": 37,
     "metadata": {},
     "output_type": "execute_result"
    }
   ],
   "source": [
    "#find a error\n",
    "a = 0\n",
    "for i in range(len(dogs)):\n",
    "     if dogs.posted[i] == 'Las Vegas':\n",
    "            a = dogs.index[i]\n",
    "dogs = dogs.drop(a)\n",
    "dogs = dogs.reset_index(drop=True)\n",
    "len(dogs)"
   ]
  },
  {
   "cell_type": "code",
   "execution_count": 38,
   "id": "13c6cad9",
   "metadata": {},
   "outputs": [
    {
     "data": {
      "text/plain": [
       "58156"
      ]
     },
     "execution_count": 38,
     "metadata": {},
     "output_type": "execute_result"
    }
   ],
   "source": [
    "#find a error\n",
    "b = 0\n",
    "for i in range(len(dogs)):\n",
    "     if dogs.posted[i] == 'Chandler':\n",
    "            b = dogs.index[i]\n",
    "dogs = dogs.drop(b)\n",
    "dogs = dogs.reset_index(drop=True)\n",
    "len(dogs)"
   ]
  },
  {
   "cell_type": "code",
   "execution_count": 39,
   "id": "79bb9657",
   "metadata": {},
   "outputs": [
    {
     "data": {
      "text/plain": [
       "58155"
      ]
     },
     "execution_count": 39,
     "metadata": {},
     "output_type": "execute_result"
    }
   ],
   "source": [
    "#find a error\n",
    "c = 0\n",
    "for i in range(len(dogs)):\n",
    "     if dogs.posted[i] == 'Albany':\n",
    "            c = dogs.index[i]\n",
    "dogs = dogs.drop(c)\n",
    "dogs = dogs.reset_index(drop=True)\n",
    "len(dogs)"
   ]
  },
  {
   "cell_type": "code",
   "execution_count": 40,
   "id": "d5a5309d",
   "metadata": {},
   "outputs": [
    {
     "data": {
      "text/plain": [
       "58154"
      ]
     },
     "execution_count": 40,
     "metadata": {},
     "output_type": "execute_result"
    }
   ],
   "source": [
    "#find a error\n",
    "d = 0\n",
    "for i in range(len(dogs)):\n",
    "     if dogs.posted[i] == 'Albany':\n",
    "            d = dogs.index[i]\n",
    "dogs = dogs.drop(d)\n",
    "dogs = dogs.reset_index(drop=True)\n",
    "len(dogs)"
   ]
  },
  {
   "cell_type": "code",
   "execution_count": 41,
   "id": "23847c7d",
   "metadata": {},
   "outputs": [
    {
     "data": {
      "text/plain": [
       "58153"
      ]
     },
     "execution_count": 41,
     "metadata": {},
     "output_type": "execute_result"
    }
   ],
   "source": [
    "#find a error\n",
    "e= 0\n",
    "for i in range(len(dogs)):\n",
    "     if dogs.posted[i] == 'Albany':\n",
    "            e = dogs.index[i]\n",
    "dogs = dogs.drop(e)\n",
    "dogs = dogs.reset_index(drop=True)\n",
    "len(dogs)"
   ]
  },
  {
   "cell_type": "code",
   "execution_count": 42,
   "id": "648e1f29",
   "metadata": {},
   "outputs": [
    {
     "data": {
      "text/plain": [
       "58152"
      ]
     },
     "execution_count": 42,
     "metadata": {},
     "output_type": "execute_result"
    }
   ],
   "source": [
    "#find a error\n",
    "f= 0\n",
    "for i in range(len(dogs)):\n",
    "     if dogs.posted[i] == 'Saugerties':\n",
    "            f = dogs.index[i]\n",
    "dogs = dogs.drop(f)\n",
    "dogs = dogs.reset_index(drop=True)\n",
    "len(dogs)"
   ]
  },
  {
   "cell_type": "code",
   "execution_count": 43,
   "id": "98d1d72b",
   "metadata": {},
   "outputs": [
    {
     "data": {
      "text/plain": [
       "58151"
      ]
     },
     "execution_count": 43,
     "metadata": {},
     "output_type": "execute_result"
    }
   ],
   "source": [
    "#find a error\n",
    "g = 0\n",
    "for i in range(len(dogs)):\n",
    "     if dogs.posted[i] == 'Saugerties':\n",
    "            g = dogs.index[i]\n",
    "dogs = dogs.drop(g)\n",
    "dogs = dogs.reset_index(drop=True)\n",
    "len(dogs)"
   ]
  },
  {
   "cell_type": "code",
   "execution_count": 44,
   "id": "8cf1e621",
   "metadata": {},
   "outputs": [
    {
     "data": {
      "text/plain": [
       "58150"
      ]
     },
     "execution_count": 44,
     "metadata": {},
     "output_type": "execute_result"
    }
   ],
   "source": [
    "#find a error\n",
    "h = 0\n",
    "for i in range(len(dogs)):\n",
    "     if dogs.posted[i] == 'Bristow':\n",
    "            h = dogs.index[i]\n",
    "dogs = dogs.drop(h)\n",
    "dogs = dogs.reset_index(drop=True)\n",
    "len(dogs)"
   ]
  },
  {
   "cell_type": "code",
   "execution_count": 45,
   "id": "88344a37",
   "metadata": {},
   "outputs": [
    {
     "data": {
      "text/plain": [
       "58149"
      ]
     },
     "execution_count": 45,
     "metadata": {},
     "output_type": "execute_result"
    }
   ],
   "source": [
    "#find a error\n",
    "l = 0\n",
    "for i in range(len(dogs)):\n",
    "     if dogs.posted[i] == 'Silver Spring':\n",
    "            l = dogs.index[i]\n",
    "dogs = dogs.drop(l)\n",
    "dogs = dogs.reset_index(drop=True)\n",
    "len(dogs)"
   ]
  },
  {
   "cell_type": "code",
   "execution_count": 46,
   "id": "00dfccc5",
   "metadata": {},
   "outputs": [
    {
     "data": {
      "text/plain": [
       "58148"
      ]
     },
     "execution_count": 46,
     "metadata": {},
     "output_type": "execute_result"
    }
   ],
   "source": [
    "#find a error\n",
    "m = 0\n",
    "for i in range(len(dogs)):\n",
    "     if dogs.posted[i] == 'Gettysburg':\n",
    "            m = dogs.index[i]\n",
    "dogs = dogs.drop(m)\n",
    "dogs = dogs.reset_index(drop=True)\n",
    "len(dogs)"
   ]
  },
  {
   "cell_type": "code",
   "execution_count": 47,
   "id": "8ff2d839",
   "metadata": {},
   "outputs": [
    {
     "data": {
      "text/plain": [
       "58147"
      ]
     },
     "execution_count": 47,
     "metadata": {},
     "output_type": "execute_result"
    }
   ],
   "source": [
    "#find a error\n",
    "n = 0\n",
    "for i in range(len(dogs)):\n",
    "     if dogs.posted[i] == 'Gettysburg':\n",
    "            n = dogs.index[i]\n",
    "dogs = dogs.drop(n)\n",
    "dogs = dogs.reset_index(drop=True)\n",
    "len(dogs)"
   ]
  },
  {
   "cell_type": "code",
   "execution_count": 48,
   "id": "fb17ebdf",
   "metadata": {},
   "outputs": [
    {
     "data": {
      "text/plain": [
       "58146"
      ]
     },
     "execution_count": 48,
     "metadata": {},
     "output_type": "execute_result"
    }
   ],
   "source": [
    "#find a error\n",
    "o = 0\n",
    "for i in range(len(dogs)):\n",
    "     if dogs.posted[i] == 'Media':\n",
    "            o = dogs.index[i]\n",
    "dogs = dogs.drop(o)\n",
    "dogs = dogs.reset_index(drop=True)\n",
    "len(dogs)"
   ]
  },
  {
   "cell_type": "code",
   "execution_count": 49,
   "id": "38902ed8",
   "metadata": {},
   "outputs": [
    {
     "data": {
      "text/plain": [
       "58145"
      ]
     },
     "execution_count": 49,
     "metadata": {},
     "output_type": "execute_result"
    }
   ],
   "source": [
    "#find a error\n",
    "p = 0\n",
    "for i in range(len(dogs)):\n",
    "     if dogs.posted[i] == 'Feasterville':\n",
    "            p = dogs.index[i]\n",
    "dogs = dogs.drop(p)\n",
    "dogs = dogs.reset_index(drop=True)\n",
    "len(dogs)"
   ]
  },
  {
   "cell_type": "code",
   "execution_count": 50,
   "id": "890940aa",
   "metadata": {},
   "outputs": [
    {
     "data": {
      "text/plain": [
       "58144"
      ]
     },
     "execution_count": 50,
     "metadata": {},
     "output_type": "execute_result"
    }
   ],
   "source": [
    "#find a error\n",
    "q = 0\n",
    "for i in range(len(dogs)):\n",
    "     if dogs.posted[i] == 'Paris':\n",
    "            q = dogs.index[i]\n",
    "dogs = dogs.drop(q)\n",
    "dogs = dogs.reset_index(drop=True)\n",
    "len(dogs)"
   ]
  },
  {
   "cell_type": "code",
   "execution_count": 51,
   "id": "6a0dc2b3",
   "metadata": {},
   "outputs": [
    {
     "data": {
      "text/plain": [
       "58143"
      ]
     },
     "execution_count": 51,
     "metadata": {},
     "output_type": "execute_result"
    }
   ],
   "source": [
    "#find a error\n",
    "r = 0\n",
    "for i in range(len(dogs)):\n",
    "     if dogs.posted[i] == 'Mooresville':\n",
    "            r = dogs.index[i]\n",
    "dogs = dogs.drop(r)\n",
    "dogs = dogs.reset_index(drop=True)\n",
    "len(dogs)"
   ]
  },
  {
   "cell_type": "code",
   "execution_count": 52,
   "id": "b507dd7b",
   "metadata": {},
   "outputs": [
    {
     "data": {
      "text/plain": [
       "58142"
      ]
     },
     "execution_count": 52,
     "metadata": {},
     "output_type": "execute_result"
    }
   ],
   "source": [
    "#find a error\n",
    "s = 0\n",
    "for i in range(len(dogs)):\n",
    "     if dogs.posted[i] == 'Ross':\n",
    "            s = dogs.index[i]\n",
    "dogs = dogs.drop(s)\n",
    "dogs = dogs.reset_index(drop=True)\n",
    "len(dogs)"
   ]
  },
  {
   "cell_type": "code",
   "execution_count": 53,
   "id": "34336dbd",
   "metadata": {},
   "outputs": [
    {
     "data": {
      "text/plain": [
       "58141"
      ]
     },
     "execution_count": 53,
     "metadata": {},
     "output_type": "execute_result"
    }
   ],
   "source": [
    "#find a error\n",
    "t = 0\n",
    "for i in range(len(dogs)):\n",
    "     if dogs.posted[i] == 'Ross':\n",
    "            t = dogs.index[i]\n",
    "dogs = dogs.drop(t)\n",
    "dogs = dogs.reset_index(drop=True)\n",
    "len(dogs)"
   ]
  },
  {
   "cell_type": "code",
   "execution_count": 54,
   "id": "648f0765",
   "metadata": {},
   "outputs": [
    {
     "data": {
      "text/plain": [
       "58140"
      ]
     },
     "execution_count": 54,
     "metadata": {},
     "output_type": "execute_result"
    }
   ],
   "source": [
    "#find a error\n",
    "u = 0\n",
    "for i in range(len(dogs)):\n",
    "     if dogs.posted[i] == 'Jeffersonville':\n",
    "            u = dogs.index[i]\n",
    "dogs = dogs.drop(u)\n",
    "dogs = dogs.reset_index(drop=True)\n",
    "len(dogs)"
   ]
  },
  {
   "cell_type": "code",
   "execution_count": 55,
   "id": "dd117dcc",
   "metadata": {},
   "outputs": [
    {
     "data": {
      "text/plain": [
       "58139"
      ]
     },
     "execution_count": 55,
     "metadata": {},
     "output_type": "execute_result"
    }
   ],
   "source": [
    "#find a error\n",
    "v = 0\n",
    "for i in range(len(dogs)):\n",
    "     if dogs.posted[i] == 'Cincinnati':\n",
    "            v = dogs.index[i]\n",
    "dogs = dogs.drop(v)\n",
    "dogs = dogs.reset_index(drop=True)\n",
    "len(dogs)"
   ]
  },
  {
   "cell_type": "code",
   "execution_count": 56,
   "id": "73c83568",
   "metadata": {},
   "outputs": [
    {
     "data": {
      "text/plain": [
       "58138"
      ]
     },
     "execution_count": 56,
     "metadata": {},
     "output_type": "execute_result"
    }
   ],
   "source": [
    "#find a error\n",
    "z = 0\n",
    "for i in range(len(dogs)):\n",
    "    if dogs.posted[i] == 'Paoli':\n",
    "        z = dogs.index[i]\n",
    "dogs = dogs.drop(z)\n",
    "dogs = dogs.reset_index(drop=True)\n",
    "len(dogs)"
   ]
  },
  {
   "cell_type": "code",
   "execution_count": 57,
   "id": "a8f92762",
   "metadata": {},
   "outputs": [
    {
     "data": {
      "text/plain": [
       "58137"
      ]
     },
     "execution_count": 57,
     "metadata": {},
     "output_type": "execute_result"
    }
   ],
   "source": [
    "#find a error\n",
    "j = 0\n",
    "for i in range(len(dogs)):\n",
    "     if dogs.posted[i] == 'lake charles':\n",
    "            j = dogs.index[i]\n",
    "dogs = dogs.drop(j)\n",
    "dogs = dogs.reset_index(drop=True)\n",
    "len(dogs)"
   ]
  },
  {
   "cell_type": "code",
   "execution_count": 58,
   "id": "208df6f0",
   "metadata": {},
   "outputs": [
    {
     "data": {
      "text/plain": [
       "58136"
      ]
     },
     "execution_count": 58,
     "metadata": {},
     "output_type": "execute_result"
    }
   ],
   "source": [
    "#find a error\n",
    "k = 0\n",
    "for i in range(len(dogs)):\n",
    "     if dogs.posted[i] == 'Albuquerque':\n",
    "            k = dogs.index[i]\n",
    "dogs = dogs.drop(k)\n",
    "dogs = dogs.reset_index(drop=True)\n",
    "len(dogs)"
   ]
  },
  {
   "cell_type": "code",
   "execution_count": 59,
   "id": "750baeb5",
   "metadata": {},
   "outputs": [
    {
     "data": {
      "text/plain": [
       "58135"
      ]
     },
     "execution_count": 59,
     "metadata": {},
     "output_type": "execute_result"
    }
   ],
   "source": [
    "#find a error\n",
    "w = 0\n",
    "for i in range(len(dogs)):\n",
    "     if dogs.posted[i] == 'Cookeville':\n",
    "            w = dogs.index[i]\n",
    "dogs = dogs.drop(w)\n",
    "dogs = dogs.reset_index(drop=True)\n",
    "len(dogs)"
   ]
  },
  {
   "cell_type": "code",
   "execution_count": 60,
   "id": "9fb9ced1",
   "metadata": {},
   "outputs": [
    {
     "data": {
      "text/plain": [
       "58134"
      ]
     },
     "execution_count": 60,
     "metadata": {},
     "output_type": "execute_result"
    }
   ],
   "source": [
    "#find a error\n",
    "x = 0\n",
    "for i in range(len(dogs)):\n",
    "     if dogs.posted[i] == 'Nashville':\n",
    "            x = dogs.index[i]\n",
    "dogs = dogs.drop(x)\n",
    "dogs = dogs.reset_index(drop=True)\n",
    "len(dogs)"
   ]
  },
  {
   "cell_type": "code",
   "execution_count": 61,
   "id": "b97c4fa8",
   "metadata": {},
   "outputs": [
    {
     "data": {
      "text/plain": [
       "58133"
      ]
     },
     "execution_count": 61,
     "metadata": {},
     "output_type": "execute_result"
    }
   ],
   "source": [
    "#find a error\n",
    "z = 0\n",
    "for i in range(len(dogs)):\n",
    "     if dogs.posted[i] == 'Rustburg':\n",
    "            z = dogs.index[i]\n",
    "dogs = dogs.drop(z)\n",
    "dogs = dogs.reset_index(drop=True)\n",
    "len(dogs)"
   ]
  },
  {
   "cell_type": "code",
   "execution_count": 62,
   "id": "2b153e7d",
   "metadata": {},
   "outputs": [
    {
     "data": {
      "text/plain": [
       "58132"
      ]
     },
     "execution_count": 62,
     "metadata": {},
     "output_type": "execute_result"
    }
   ],
   "source": [
    "#find a error\n",
    "aa = 0\n",
    "for i in range(len(dogs)):\n",
    "     if dogs.posted[i] == 'Midlothian':\n",
    "            aa = dogs.index[i]\n",
    "dogs = dogs.drop(aa)\n",
    "dogs = dogs.reset_index(drop=True)\n",
    "len(dogs)"
   ]
  },
  {
   "cell_type": "code",
   "execution_count": 63,
   "id": "e2d5bacf",
   "metadata": {},
   "outputs": [
    {
     "data": {
      "text/plain": [
       "58131"
      ]
     },
     "execution_count": 63,
     "metadata": {},
     "output_type": "execute_result"
    }
   ],
   "source": [
    "#find a error\n",
    "bb = 0\n",
    "for i in range(len(dogs)):\n",
    "     if dogs.posted[i] == 'Seattle':\n",
    "            bb = dogs.index[i]\n",
    "dogs = dogs.drop(bb)\n",
    "dogs = dogs.reset_index(drop=True)\n",
    "len(dogs)"
   ]
  },
  {
   "cell_type": "code",
   "execution_count": 64,
   "id": "2447fb53",
   "metadata": {},
   "outputs": [
    {
     "data": {
      "text/plain": [
       "58130"
      ]
     },
     "execution_count": 64,
     "metadata": {},
     "output_type": "execute_result"
    }
   ],
   "source": [
    "#find a error\n",
    "cc = 0\n",
    "for i in range(len(dogs)):\n",
    "     if dogs.posted[i] == 'Seattle':\n",
    "            cc = dogs.index[i]\n",
    "dogs = dogs.drop(cc)\n",
    "dogs = dogs.reset_index(drop=True)\n",
    "len(dogs)"
   ]
  },
  {
   "cell_type": "code",
   "execution_count": 65,
   "id": "3babfd1c",
   "metadata": {},
   "outputs": [
    {
     "data": {
      "text/plain": [
       "58129"
      ]
     },
     "execution_count": 65,
     "metadata": {},
     "output_type": "execute_result"
    }
   ],
   "source": [
    "#find a error\n",
    "dd = 0\n",
    "for i in range(len(dogs)):\n",
    "     if dogs.posted[i] == 'Seattle':\n",
    "            dd = dogs.index[i]\n",
    "dogs = dogs.drop(dd)\n",
    "dogs = dogs.reset_index(drop=True)\n",
    "len(dogs)"
   ]
  },
  {
   "cell_type": "code",
   "execution_count": 66,
   "id": "37c531dd",
   "metadata": {},
   "outputs": [
    {
     "data": {
      "text/plain": [
       "58128"
      ]
     },
     "execution_count": 66,
     "metadata": {},
     "output_type": "execute_result"
    }
   ],
   "source": [
    "#find a error\n",
    "ee = 0\n",
    "for i in range(len(dogs)):\n",
    "     if dogs.posted[i] == 'Seattle':\n",
    "            ee = dogs.index[i]\n",
    "dogs = dogs.drop(ee)\n",
    "dogs = dogs.reset_index(drop=True)\n",
    "len(dogs)"
   ]
  },
  {
   "cell_type": "code",
   "execution_count": 67,
   "id": "6b6b95bb",
   "metadata": {},
   "outputs": [
    {
     "data": {
      "text/plain": [
       "58127"
      ]
     },
     "execution_count": 67,
     "metadata": {},
     "output_type": "execute_result"
    }
   ],
   "source": [
    "#find a error\n",
    "ff = 0\n",
    "for i in range(len(dogs)):\n",
    "     if dogs.posted[i] == 'Seattle':\n",
    "            ff = dogs.index[i]\n",
    "dogs = dogs.drop(ff)\n",
    "dogs = dogs.reset_index(drop=True)\n",
    "len(dogs)"
   ]
  },
  {
   "cell_type": "code",
   "execution_count": 68,
   "id": "12770bdb",
   "metadata": {},
   "outputs": [
    {
     "data": {
      "text/plain": [
       "58126"
      ]
     },
     "execution_count": 68,
     "metadata": {},
     "output_type": "execute_result"
    }
   ],
   "source": [
    "#find a error\n",
    "gg = 0\n",
    "for i in range(len(dogs)):\n",
    "     if dogs.posted[i] == 'Seattle':\n",
    "            gg = dogs.index[i]\n",
    "dogs = dogs.drop(gg)\n",
    "dogs = dogs.reset_index(drop=True)\n",
    "len(dogs)"
   ]
  },
  {
   "cell_type": "code",
   "execution_count": 69,
   "id": "47585d49",
   "metadata": {},
   "outputs": [
    {
     "data": {
      "text/plain": [
       "58125"
      ]
     },
     "execution_count": 69,
     "metadata": {},
     "output_type": "execute_result"
    }
   ],
   "source": [
    "#find a error\n",
    "hh = 0\n",
    "for i in range(len(dogs)):\n",
    "     if dogs.posted[i] == 'Seattle':\n",
    "            hh = dogs.index[i]\n",
    "dogs = dogs.drop(hh)\n",
    "dogs = dogs.reset_index(drop=True)\n",
    "len(dogs)"
   ]
  },
  {
   "cell_type": "code",
   "execution_count": 70,
   "id": "4e12182e",
   "metadata": {},
   "outputs": [
    {
     "data": {
      "text/plain": [
       "33"
      ]
     },
     "execution_count": 70,
     "metadata": {},
     "output_type": "execute_result"
    }
   ],
   "source": [
    "#numero di errori \n",
    "num_err = dim.shape[0] - len(dogs)\n",
    "num_err"
   ]
  },
  {
   "cell_type": "code",
   "execution_count": 71,
   "id": "6af1b1a4",
   "metadata": {},
   "outputs": [
    {
     "data": {
      "text/plain": [
       "0.05674197874754978"
      ]
     },
     "execution_count": 71,
     "metadata": {},
     "output_type": "execute_result"
    }
   ],
   "source": [
    "#valore percentuale delle righe tolte\n",
    "perc = num_err*100/dim.shape[0]\n",
    "perc"
   ]
  },
  {
   "cell_type": "code",
   "execution_count": 73,
   "id": "9fb9ed14",
   "metadata": {},
   "outputs": [
    {
     "name": "stderr",
     "output_type": "stream",
     "text": [
      "C:\\Users\\Simone\\AppData\\Local\\Temp/ipykernel_12460/4152476010.py:2: SettingWithCopyWarning: \n",
      "A value is trying to be set on a copy of a slice from a DataFrame\n",
      "\n",
      "See the caveats in the documentation: https://pandas.pydata.org/pandas-docs/stable/user_guide/indexing.html#returning-a-view-versus-a-copy\n",
      "  dogs.posted[i] = pd.to_datetime(dogs.posted[i])\n"
     ]
    }
   ],
   "source": [
    "for i in range(len(dogs)):\n",
    "    dogs.posted[i] = pd.to_datetime(dogs.posted[i])"
   ]
  },
  {
   "cell_type": "code",
   "execution_count": 82,
   "id": "b706891d",
   "metadata": {},
   "outputs": [
    {
     "data": {
      "text/plain": [
       "breed_primary\n",
       "Affenpinscher                       2019-09-14 10:10:51+00:00\n",
       "Afghan Hound                        2019-07-27 00:38:48+00:00\n",
       "Airedale Terrier                    2019-09-19 18:40:39+00:00\n",
       "Akbash                              2019-08-23 17:11:04+00:00\n",
       "Akita                               2019-09-20 15:19:57+00:00\n",
       "                                               ...           \n",
       "Wirehaired Pointing Griffon         2016-06-29 20:03:55+00:00\n",
       "Wirehaired Terrier                  2019-09-19 22:52:45+00:00\n",
       "Xoloitzcuintli / Mexican Hairless   2019-09-08 11:15:54+00:00\n",
       "Yellow Labrador Retriever           2019-09-20 06:30:27+00:00\n",
       "Yorkshire Terrier                   2019-09-20 16:56:38+00:00\n",
       "Name: posted, Length: 216, dtype: datetime64[ns, UTC]"
      ]
     },
     "execution_count": 82,
     "metadata": {},
     "output_type": "execute_result"
    }
   ],
   "source": [
    "last = dogs.groupby(['breed_primary'])['posted'].max()\n",
    "last"
   ]
  },
  {
   "cell_type": "code",
   "execution_count": 83,
   "id": "92137ec5",
   "metadata": {},
   "outputs": [
    {
     "data": {
      "text/plain": [
       "breed_primary\n",
       "Affenpinscher                       2012-03-08 10:27:33+00:00\n",
       "Afghan Hound                        2017-06-29 23:28:51+00:00\n",
       "Airedale Terrier                    2014-06-13 12:59:36+00:00\n",
       "Akbash                              2019-07-21 00:35:59+00:00\n",
       "Akita                               2012-03-03 09:31:08+00:00\n",
       "                                               ...           \n",
       "Wirehaired Pointing Griffon         2016-06-29 20:03:55+00:00\n",
       "Wirehaired Terrier                  2012-11-27 14:07:54+00:00\n",
       "Xoloitzcuintli / Mexican Hairless   2007-02-01 00:00:00+00:00\n",
       "Yellow Labrador Retriever           2010-05-31 00:00:00+00:00\n",
       "Yorkshire Terrier                   2012-02-04 17:14:52+00:00\n",
       "Name: posted, Length: 216, dtype: datetime64[ns, UTC]"
      ]
     },
     "execution_count": 83,
     "metadata": {},
     "output_type": "execute_result"
    }
   ],
   "source": [
    "first = dogs.groupby(['breed_primary'])['posted'].min()\n",
    "first"
   ]
  },
  {
   "cell_type": "code",
   "execution_count": 84,
   "id": "a1dddd86",
   "metadata": {},
   "outputs": [
    {
     "name": "stdout",
     "output_type": "stream",
     "text": [
      "                                                      First  \\\n",
      "breed_primary                                                 \n",
      "Affenpinscher                     2012-03-08 10:27:33+00:00   \n",
      "Afghan Hound                      2017-06-29 23:28:51+00:00   \n",
      "Airedale Terrier                  2014-06-13 12:59:36+00:00   \n",
      "Akbash                            2019-07-21 00:35:59+00:00   \n",
      "Akita                             2012-03-03 09:31:08+00:00   \n",
      "...                                                     ...   \n",
      "Wirehaired Pointing Griffon       2016-06-29 20:03:55+00:00   \n",
      "Wirehaired Terrier                2012-11-27 14:07:54+00:00   \n",
      "Xoloitzcuintli / Mexican Hairless 2007-02-01 00:00:00+00:00   \n",
      "Yellow Labrador Retriever         2010-05-31 00:00:00+00:00   \n",
      "Yorkshire Terrier                 2012-02-04 17:14:52+00:00   \n",
      "\n",
      "                                                       Last  \n",
      "breed_primary                                                \n",
      "Affenpinscher                     2019-09-14 10:10:51+00:00  \n",
      "Afghan Hound                      2019-07-27 00:38:48+00:00  \n",
      "Airedale Terrier                  2019-09-19 18:40:39+00:00  \n",
      "Akbash                            2019-08-23 17:11:04+00:00  \n",
      "Akita                             2019-09-20 15:19:57+00:00  \n",
      "...                                                     ...  \n",
      "Wirehaired Pointing Griffon       2016-06-29 20:03:55+00:00  \n",
      "Wirehaired Terrier                2019-09-19 22:52:45+00:00  \n",
      "Xoloitzcuintli / Mexican Hairless 2019-09-08 11:15:54+00:00  \n",
      "Yellow Labrador Retriever         2019-09-20 06:30:27+00:00  \n",
      "Yorkshire Terrier                 2019-09-20 16:56:38+00:00  \n",
      "\n",
      "[216 rows x 2 columns]\n"
     ]
    }
   ],
   "source": [
    "razza['First'] = first\n",
    "razza['Last'] = last\n",
    "columns_to_print = ['First', 'Last']\n",
    "print(razza[columns_to_print])"
   ]
  },
  {
   "cell_type": "markdown",
   "id": "70781b06",
   "metadata": {},
   "source": [
    "# 5. For each state, compute the sex imbalance, that is the difference between male and female dogs. In which state this imbalance is largest?"
   ]
  },
  {
   "cell_type": "code",
   "execution_count": null,
   "id": "65bbf0ce",
   "metadata": {},
   "outputs": [],
   "source": [
    "dogs.contact_state"
   ]
  },
  {
   "cell_type": "code",
   "execution_count": null,
   "id": "c49f8674",
   "metadata": {},
   "outputs": [],
   "source": [
    "stato = dogs.groupby(by = \"contact_state\").count()\n",
    "stato.id"
   ]
  },
  {
   "cell_type": "code",
   "execution_count": null,
   "id": "fdd3a720",
   "metadata": {},
   "outputs": [],
   "source": [
    "#infividuazione degli errori\n",
    "stato.id[:22]"
   ]
  },
  {
   "cell_type": "code",
   "execution_count": null,
   "id": "ec6ea1f5",
   "metadata": {},
   "outputs": [],
   "source": [
    "stato.id[22:]"
   ]
  },
  {
   "cell_type": "code",
   "execution_count": null,
   "id": "de3d5dbf",
   "metadata": {},
   "outputs": [],
   "source": [
    "#aggiustamenti dei dati del dataset\n",
    "stato.id[\"NY\"] = stato.id[\"NY\"] + 3 + 2\n",
    "stato.id[\"PA\"] = stato.id[\"PA\"] + 2 + 1 + 1\n",
    "stato.id[\"VA\"] = stato.id[\"VA\"] + 1 + 1 + 1\n",
    "stato.id[\"MD\"] = stato.id[\"MD\"] + 1 \n",
    "stato.id[\"TN\"] = stato.id[\"TN\"] + 1 + 1\n",
    "stato.id[\"OH\"] = stato.id[\"OH\"] + 2 + 1 \n",
    "stato.id[\"IN\"] = stato.id[\"IN\"] + 1 + 1 + 1\n",
    "stato.id[\"IL\"] = stato.id[\"IL\"] + 1 \n",
    "stato.id[\"LA\"] = stato.id[\"LA\"] + 1 \n",
    "stato.id[\"AZ\"] = stato.id[\"AZ\"] + 1 \n",
    "stato.id[\"NM\"] = stato.id[\"NM\"] + 1 \n",
    "stato.id[\"NV\"] = stato.id[\"NV\"] + 1\n",
    "stato.id[\"WA\"] = stato.id[\"WA\"] + 7"
   ]
  },
  {
   "cell_type": "code",
   "execution_count": null,
   "id": "51a93634",
   "metadata": {},
   "outputs": [],
   "source": [
    "stato = stato[22:]"
   ]
  },
  {
   "cell_type": "code",
   "execution_count": null,
   "id": "e814969d",
   "metadata": {
    "scrolled": false
   },
   "outputs": [],
   "source": [
    "stato"
   ]
  },
  {
   "cell_type": "code",
   "execution_count": null,
   "id": "b38c3308",
   "metadata": {},
   "outputs": [],
   "source": [
    "#NB, QC in più"
   ]
  },
  {
   "cell_type": "code",
   "execution_count": null,
   "id": "aa1b23d9",
   "metadata": {},
   "outputs": [],
   "source": [
    "#conteggio dei cani maschio e femmina\n",
    "male = []\n",
    "female = []\n",
    "for i in range(len(stato)):\n",
    "    m = 0\n",
    "    f = 0\n",
    "    for j in range(len(dogs)):\n",
    "        if stato.index[i] == dogs.contact_state[j]:\n",
    "            if dogs.sex[j] == \"Male\":\n",
    "                m = m + 1\n",
    "            elif dogs.sex[j] == \"Female\":\n",
    "                f = f + 1\n",
    "    male.append(m)\n",
    "    female.append(f)"
   ]
  },
  {
   "cell_type": "code",
   "execution_count": null,
   "id": "2d26befe",
   "metadata": {},
   "outputs": [],
   "source": [
    "stato['Male'] = male\n",
    "stato['Female'] = female\n",
    "columns_to_print = ['Male', 'Female']\n",
    "print(stato[columns_to_print])"
   ]
  },
  {
   "cell_type": "code",
   "execution_count": null,
   "id": "dae17a15",
   "metadata": {},
   "outputs": [],
   "source": [
    "#calcolo differenza\n",
    "imbalance = []\n",
    "for i in range(len(stato)):\n",
    "    imb = stato[\"Male\"][i] - stato[\"Female\"][i]\n",
    "    imbalance.append(imb)\n",
    "\n"
   ]
  },
  {
   "cell_type": "code",
   "execution_count": null,
   "id": "451d0b39",
   "metadata": {},
   "outputs": [],
   "source": [
    "stato['Imbalamce(m-f)'] = imbalance\n",
    "stato.sort_values(by=\"Imbalamce(m-f)\", ascending=False, inplace=True)\n",
    "columns_to_print = ['Male', 'Female','Imbalamce(m-f)']\n",
    "print(stato[columns_to_print])"
   ]
  },
  {
   "cell_type": "markdown",
   "id": "8ac1c0ab",
   "metadata": {},
   "source": [
    " # 6. For each pair (age, size), determine the average duration of the stay and the average cost of stay."
   ]
  },
  {
   "cell_type": "code",
   "execution_count": null,
   "id": "77ee7914",
   "metadata": {},
   "outputs": [],
   "source": [
    "columns_to_print = ['age', 'size', 'stay_duration', 'stay_cost']\n",
    "print(dogs[columns_to_print])"
   ]
  },
  {
   "cell_type": "code",
   "execution_count": null,
   "id": "d217cd8e",
   "metadata": {},
   "outputs": [],
   "source": [
    "df_grouped = dogs.groupby([\"age\", \"size\"])[\"stay_duration\", \"stay_cost\"].mean()\n",
    "df_grouped"
   ]
  },
  {
   "cell_type": "markdown",
   "id": "054ab069",
   "metadata": {},
   "source": [
    "# 7. Find the dogs involved in at least 3 travels. Also list the breed of those dogs."
   ]
  },
  {
   "cell_type": "code",
   "execution_count": null,
   "id": "570bfd09",
   "metadata": {},
   "outputs": [],
   "source": [
    "travel"
   ]
  },
  {
   "cell_type": "code",
   "execution_count": null,
   "id": "26116dca",
   "metadata": {},
   "outputs": [],
   "source": [
    "#conta dei viaggi\n",
    "travels = travel.groupby(by = \"id\").count()\n",
    "travels.reset_index(inplace=True, drop=False)\n",
    "travels.rename(columns={\"index\": \"N of travels\"}, inplace=True)\n",
    "columns_to_print = ['id', 'N of travels']\n",
    "print(travels[columns_to_print])"
   ]
  },
  {
   "cell_type": "code",
   "execution_count": null,
   "id": "2361f7d6",
   "metadata": {},
   "outputs": [],
   "source": [
    "df_merged = pd.merge(dogs, travels, on=\"id\")\n",
    "df_merged"
   ]
  },
  {
   "cell_type": "code",
   "execution_count": null,
   "id": "29fc8761",
   "metadata": {},
   "outputs": [],
   "source": [
    "#stampa di solo coloro con almeno 3 viaggi +  la razza\n",
    "columns_to_print = ['N of travels', 'breed_primary']\n",
    "print(df_merged[df_merged[\"N of travels\"] > 2][columns_to_print])"
   ]
  },
  {
   "cell_type": "markdown",
   "id": "38bddabd",
   "metadata": {},
   "source": [
    "# 8. Fix the travels table so that the correct state is computed from the manual and the found fields. If manual is not missing, then it overrides what is stored in found."
   ]
  },
  {
   "cell_type": "code",
   "execution_count": null,
   "id": "fcc4502b",
   "metadata": {},
   "outputs": [],
   "source": [
    "travel"
   ]
  },
  {
   "cell_type": "code",
   "execution_count": null,
   "id": "11bc7d12",
   "metadata": {},
   "outputs": [],
   "source": [
    "for i in range(len(travel)):\n",
    "    if pd.notna(travel.manual[i]):\n",
    "        travel.found[i] = travel.manual[i]"
   ]
  },
  {
   "cell_type": "code",
   "execution_count": null,
   "id": "dd11cfc9",
   "metadata": {
    "scrolled": true
   },
   "outputs": [],
   "source": [
    "travel"
   ]
  },
  {
   "cell_type": "markdown",
   "id": "b05b73e0",
   "metadata": {},
   "source": [
    "# 9. For each state, compute the ratio between the number of travels and the population."
   ]
  },
  {
   "cell_type": "code",
   "execution_count": null,
   "id": "af8f23cf",
   "metadata": {},
   "outputs": [],
   "source": [
    "travel"
   ]
  },
  {
   "cell_type": "code",
   "execution_count": null,
   "id": "bd4cff25",
   "metadata": {
    "scrolled": true
   },
   "outputs": [],
   "source": [
    "state"
   ]
  },
  {
   "cell_type": "code",
   "execution_count": null,
   "id": "e6d742c7",
   "metadata": {},
   "outputs": [],
   "source": [
    "stato_viaggi = travel.groupby(by = \"contact_state\").count()\n",
    "stato_viaggi.rename(columns={\"id\": \"N_of_travels\"}, inplace=True)\n",
    "stato_viaggi.drop('index', axis=1, inplace=True)\n",
    "stato_viaggi.N_of_travels"
   ]
  },
  {
   "cell_type": "code",
   "execution_count": null,
   "id": "b7d7de99",
   "metadata": {},
   "outputs": [],
   "source": [
    "#correzione errori\n",
    "stato_viaggi.N_of_travels[\"PA\"] = stato_viaggi.N_of_travels[\"PA\"] + 10\n",
    "stato_viaggi = stato_viaggi[1:]\n",
    "stato_viaggi.reset_index(inplace=True)\n"
   ]
  },
  {
   "cell_type": "code",
   "execution_count": null,
   "id": "4141473b",
   "metadata": {},
   "outputs": [],
   "source": [
    "stato_viaggi_merged = pd.merge(stato_viaggi, state, on=\"contact_state\")\n",
    "columns_to_print = ['contact_state', 'N_of_travels', 'state', 'population']\n",
    "print(stato_viaggi_merged[columns_to_print])"
   ]
  },
  {
   "cell_type": "code",
   "execution_count": null,
   "id": "1e5d9a2a",
   "metadata": {},
   "outputs": [],
   "source": [
    "#adeguamento numero della popolazione\n",
    "for i in range(len(stato_viaggi_merged)):\n",
    "    stato_viaggi_merged['population'][i] = stato_viaggi_merged['population'][i].replace(\".\", \"\") \n",
    "    stato_viaggi_merged['population'][i] = pd.to_numeric(stato_viaggi_merged['population'][i])"
   ]
  },
  {
   "cell_type": "code",
   "execution_count": null,
   "id": "30894717",
   "metadata": {},
   "outputs": [],
   "source": [
    "#calcolo rapporto numero di viaggi / popolazione per ogni stato\n",
    "ratio = []\n",
    "r = 0\n",
    "for i in range(len(stato_viaggi_merged)):\n",
    "    r = stato_viaggi_merged.N_of_travels[i]/stato_viaggi_merged.population[i]\n",
    "    ratio.append(r) "
   ]
  },
  {
   "cell_type": "code",
   "execution_count": null,
   "id": "75889cdd",
   "metadata": {},
   "outputs": [],
   "source": [
    "stato_viaggi_merged['ratio'] = ratio\n",
    "columns_to_print = ['contact_state',  'state','N_of_travels', 'population', 'ratio']\n",
    "stato_viaggi_merged[columns_to_print]"
   ]
  },
  {
   "cell_type": "markdown",
   "id": "e144f54c",
   "metadata": {},
   "source": [
    "# 10. For each dog, compute the number of days from the posted day to the day of last access."
   ]
  },
  {
   "cell_type": "code",
   "execution_count": null,
   "id": "da4348f5",
   "metadata": {},
   "outputs": [],
   "source": [
    "dogs.posted"
   ]
  },
  {
   "cell_type": "code",
   "execution_count": null,
   "id": "9f4473ec",
   "metadata": {},
   "outputs": [],
   "source": [
    "dogs.accessed"
   ]
  },
  {
   "cell_type": "code",
   "execution_count": null,
   "id": "f4843323",
   "metadata": {},
   "outputs": [],
   "source": [
    "#trasformazione dei dati in tipo data e calcolo della differenza\n",
    "dif = []\n",
    "for i in range(len(dogs)):\n",
    "    dogs.accessed[i] = pd.to_datetime(dogs.accessed[i])\n",
    "    dogs.accessed[i] = dogs.accessed[i].tz_localize('UTC').tz_convert('UTC')\n",
    "    dif.append(dogs.accessed[i] - dogs.posted[i])\n",
    "    \n",
    "dogs['difference'] = dif"
   ]
  },
  {
   "cell_type": "code",
   "execution_count": null,
   "id": "a7737e10",
   "metadata": {},
   "outputs": [],
   "source": [
    "columns_to_print = ['id', 'difference']\n",
    "dogs[columns_to_print]"
   ]
  },
  {
   "cell_type": "markdown",
   "id": "4f05415e",
   "metadata": {},
   "source": [
    "# 11. Partition the dogs according to the number of weeks from the posted day to the day of last access."
   ]
  },
  {
   "cell_type": "code",
   "execution_count": null,
   "id": "fe5ece72",
   "metadata": {},
   "outputs": [],
   "source": [
    "#Calcolo numero di settimane\n",
    "wk = []\n",
    "for i in range(len(dogs)):\n",
    "    wk.append(dogs.difference[i]/7)\n",
    "dogs['week'] = wk"
   ]
  },
  {
   "cell_type": "code",
   "execution_count": null,
   "id": "7776bd1f",
   "metadata": {},
   "outputs": [],
   "source": [
    "columns_to_print = ['id', 'difference', 'week']\n",
    "dogs[columns_to_print]"
   ]
  },
  {
   "cell_type": "markdown",
   "id": "747a6452",
   "metadata": {},
   "source": [
    "# 12. Find for duplicates in the dogs dataset. Two records are duplicates if they have (1) same breeds and sex, and (2) they share at least 90% of the words in the description field. Extra points if you find and implement a more refined for determining if two rows are duplicates."
   ]
  },
  {
   "cell_type": "code",
   "execution_count": null,
   "id": "ef16cc02",
   "metadata": {},
   "outputs": [],
   "source": [
    "dogs"
   ]
  },
  {
   "cell_type": "code",
   "execution_count": null,
   "id": "98ed2e5f",
   "metadata": {},
   "outputs": [],
   "source": [
    "indexes = []\n",
    "for i in range(len(dogs)):\n",
    "    ind = []\n",
    "    for j in range(len(dogs)):\n",
    "        if(i != j) & (dogs.breed_primary[i] == dogs.breed_primary[j]) & (dogs.sex[i] == dogs.sex[j]) & (not pd.isnull(dogs['description'][i])) & (not pd.isnull(dogs['description'][j])):\n",
    "            print(i)\n",
    "            print(j)\n",
    "            \n",
    "            dogs['words1'] = dogs['description'][i].split()\n",
    "            dogs['words2'] = dogs['description'][j].split()\n",
    "            \n",
    "            word_counts1 = dogs['words1'].apply(lambda x: pd.value_counts(x)).sum(axis=0)\n",
    "            word_counts2 = dogs['words2'].apply(lambda x: pd.value_counts(x)).sum(axis=0)\n",
    "            \n",
    "            common_percentage1 = (word_counts1 & word_counts2).sum() / word_counts1.sum()\n",
    "            common_percentage2 = (word_counts1 & word_counts2).sum() / word_counts2.sum()\n",
    "            \n",
    "            result = common_percentage1 >= 0.95 and common_percentage2 >= 0.95\n",
    "            \n",
    "            if (result):\n",
    "                ind.append(dogs.id[j]) \n",
    "    indexes.append(ind)"
   ]
  },
  {
   "cell_type": "code",
   "execution_count": null,
   "id": "bafc31b5",
   "metadata": {},
   "outputs": [],
   "source": [
    "dogs.breed_primary[i]"
   ]
  },
  {
   "cell_type": "code",
   "execution_count": null,
   "id": "e61625da",
   "metadata": {},
   "outputs": [],
   "source": [
    "dogs.breed_primary[j]"
   ]
  },
  {
   "cell_type": "code",
   "execution_count": null,
   "id": "7069431a",
   "metadata": {},
   "outputs": [],
   "source": [
    "dogs.sex[i]"
   ]
  },
  {
   "cell_type": "code",
   "execution_count": null,
   "id": "c9af6396",
   "metadata": {},
   "outputs": [],
   "source": [
    "dogs.sex[j]"
   ]
  },
  {
   "cell_type": "code",
   "execution_count": null,
   "id": "06c0c53c",
   "metadata": {},
   "outputs": [],
   "source": [
    "dogs['description'][i]"
   ]
  },
  {
   "cell_type": "code",
   "execution_count": null,
   "id": "6652ad1a",
   "metadata": {},
   "outputs": [],
   "source": [
    "dogs['description'][j]"
   ]
  },
  {
   "cell_type": "code",
   "execution_count": null,
   "id": "834faa6c",
   "metadata": {},
   "outputs": [],
   "source": [
    "len(dogs['description'][i])"
   ]
  },
  {
   "cell_type": "code",
   "execution_count": null,
   "id": "49344298",
   "metadata": {},
   "outputs": [],
   "source": [
    "len(dogs['description'][j])"
   ]
  },
  {
   "cell_type": "code",
   "execution_count": null,
   "id": "91613a04",
   "metadata": {},
   "outputs": [],
   "source": []
  },
  {
   "cell_type": "code",
   "execution_count": null,
   "id": "f9d5b59a",
   "metadata": {},
   "outputs": [],
   "source": []
  },
  {
   "cell_type": "code",
   "execution_count": null,
   "id": "f5ad8327",
   "metadata": {},
   "outputs": [],
   "source": []
  },
  {
   "cell_type": "code",
   "execution_count": null,
   "id": "3c223f87",
   "metadata": {},
   "outputs": [],
   "source": []
  },
  {
   "cell_type": "code",
   "execution_count": null,
   "id": "860c3fba",
   "metadata": {},
   "outputs": [],
   "source": []
  },
  {
   "cell_type": "code",
   "execution_count": null,
   "id": "ff780b16",
   "metadata": {},
   "outputs": [],
   "source": [
    "dogs['duplicates'] = indexes"
   ]
  },
  {
   "cell_type": "code",
   "execution_count": null,
   "id": "c6f601aa",
   "metadata": {},
   "outputs": [],
   "source": [
    "li1 = dogs['description'][i].split()\n",
    "type(li1)"
   ]
  },
  {
   "cell_type": "code",
   "execution_count": null,
   "id": "d166f5db",
   "metadata": {},
   "outputs": [],
   "source": [
    "dogs['words1'] = li1"
   ]
  },
  {
   "cell_type": "code",
   "execution_count": null,
   "id": "a4446f1a",
   "metadata": {},
   "outputs": [],
   "source": [
    "dogs['description'][i].split().apply(lambda x: pd.value_counts(x)).sum(axis=0)"
   ]
  },
  {
   "cell_type": "code",
   "execution_count": null,
   "id": "9dca317a",
   "metadata": {},
   "outputs": [],
   "source": [
    "not (pd.isnull(dogs['description'][i]))"
   ]
  },
  {
   "cell_type": "code",
   "execution_count": null,
   "id": "7a0aa67d",
   "metadata": {},
   "outputs": [],
   "source": [
    "~(pd.isnull(dogs['description'][i]))"
   ]
  },
  {
   "cell_type": "code",
   "execution_count": null,
   "id": "c3055d16",
   "metadata": {},
   "outputs": [],
   "source": []
  },
  {
   "cell_type": "code",
   "execution_count": null,
   "id": "ccdd5ca1",
   "metadata": {},
   "outputs": [],
   "source": []
  },
  {
   "cell_type": "code",
   "execution_count": null,
   "id": "33e1628a",
   "metadata": {},
   "outputs": [],
   "source": [
    "prova = dogs['description'][i].split()"
   ]
  },
  {
   "cell_type": "code",
   "execution_count": null,
   "id": "38bf3b81",
   "metadata": {},
   "outputs": [],
   "source": [
    "type(prova)"
   ]
  }
 ],
 "metadata": {
  "kernelspec": {
   "display_name": "Python 3 (ipykernel)",
   "language": "python",
   "name": "python3"
  },
  "language_info": {
   "codemirror_mode": {
    "name": "ipython",
    "version": 3
   },
   "file_extension": ".py",
   "mimetype": "text/x-python",
   "name": "python",
   "nbconvert_exporter": "python",
   "pygments_lexer": "ipython3",
   "version": "3.9.7"
  }
 },
 "nbformat": 4,
 "nbformat_minor": 5
}
